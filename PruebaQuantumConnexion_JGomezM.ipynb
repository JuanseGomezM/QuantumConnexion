{
 "cells": [
  {
   "cell_type": "markdown",
   "id": "26993d70",
   "metadata": {},
   "source": [
    "<h1 align=\"center\"><font size=\"5\">QUANTUM CONNEXION</font></h1>\n",
    "\n",
    "<h2 align=\"center\"><font size=\"4\">PRUEBA CIENTÍFICO DE DATOS</font></h2>"
   ]
  },
  {
   "cell_type": "markdown",
   "id": "cd13ae21",
   "metadata": {},
   "source": [
    "## Juansebastian Gómez Muñoz"
   ]
  },
  {
   "cell_type": "markdown",
   "id": "3b7ad94f",
   "metadata": {},
   "source": [
    "### 1. RMSE vs. MSE \n",
    "\n",
    "¿Qué ventajas presenta el cálculo de la *Raíz Cuadrada del Error Cuadrático Medio* (**RMSE**) y su interpretación en relación con su versión ‘inicial’ *Error Cuadrático Medio* (**MSE**) en problemas de regresión (estimación de variables continuas)?\n",
    "\n",
    "#### Respuesta 1.\n",
    "El **MSE** tiene las unidades de la variable dependiente al cuadrado y por lo tanto una de las ventajas de la **RMSE** es que su interpretación estadística es más fácil porque es un resultado dado en las mismas unidades de la variable dependiente.\n",
    "\n",
    "También la **RMSE** permite comparar errores de predicción de diferentes modelos para un conjunto de datos en particular con más facilidad."
   ]
  },
  {
   "cell_type": "markdown",
   "id": "792fb1cd",
   "metadata": {},
   "source": [
    "### 2. Supervisado vs. Unsupervisado\n",
    "\n",
    "Explique y contraste la diferencia entre procesos de Aprendizaje Supervisado y Aprendizaje No Supervisado. Incluya la explicación de al menos un algoritmo de ejemplo en cada categoría de aprendizaje.\n",
    "\n",
    "#### Respuesta 2.\n",
    "Acá la respuesta"
   ]
  },
  {
   "cell_type": "markdown",
   "id": "370278a1",
   "metadata": {},
   "source": [
    "### 3. Clasificación binaria\n",
    "Asuma un problema de clasificación binaria.\n",
    "\n",
    "  a. Un algoritmo entrenado con un nivel de prevalencia del 3% que presenta una Precisión del 6% ¿es un mal   clasificador? (Hint: Omita el criterio hipotético con el que se pudo haber seleccionado el punto de corte para calcular la precisión)\n",
    "\n",
    "  b. Explique el concepto de prevalencia y cómo ésta afecta el aprendizaje de los algoritmos y por lo tanto su rendimiento.\n",
    "\n",
    "  c. ¿Por qué la Exactitud (Accuracy) deja de ser una métrica confiable en problemas con niveles de prevalencia demasiado bajos, por ejemplo, del 3%?\n",
    "  \n",
    "#### Respuesta 3.\n",
    "Acá la respuesta"
   ]
  },
  {
   "cell_type": "markdown",
   "id": "2e4efff0",
   "metadata": {},
   "source": [
    "### 4. Matriz de confusión\n",
    "\n",
    "Las matrices de confusión o tablas de contingencia resultan ser una herramienta bastante útil a la hora de evaluar clasificadores. Responda las siguientes preguntas, en términos bayesianos o de probabilidades condicionales, basándose en la siguiente matriz:\n",
    "\n",
    "|              |        |      |Actual|      |\n",
    "|--------------|--------|------|------|------|\n",
    "|              |        |*Moroso*|*Al día*|*TOTAL* |\n",
    "|              |*Moroso*|400     |600     | 1000   |\n",
    "|**Predicción**|*Al día*|1000    |1500    | 2500   |\n",
    "|              |*TOTAL* |1400    |2100    | 3500   |\n",
    "\n",
    "  a. Reporte la precisión de este clasificador. Interprete.\n",
    "  \n",
    "  b. Reporte la exactitud (accuracy) de este clasificador. Interprete.\n",
    "  \n",
    "  c. Basado en la interpretación de los dos literales anteriores, ¿el clasificador es un buen clasificador? ¿Necesita más información para concluir? ¿Cuál? Explique.\n",
    "  \n",
    "  d. Interprete el valor resultante de dividir la precisión del clasificador entre la proporción real de morosos (i.e Precisión/P(Moroso = 1))\n",
    "  \n",
    "  e. Basado en su interpretación dada en el literal inmediatamente anterior, ¿el clasificador es un buen clasificador? Explique\n",
    "  \n",
    "  f. ¿Qué preguntas le haría a su colega acerca de la construcción de esta matriz de confusión? Enumere máximo tres (3) siendo la primera la más importante y la tercera la menos importante según su criterio.\n",
    "  \n",
    "#### Respuesta 4.\n",
    "Acá la respuesta"
   ]
  },
  {
   "cell_type": "markdown",
   "id": "7c0b16f7",
   "metadata": {},
   "source": [
    "### 5. Series de tiempo\n",
    "\n",
    "La empresa CRAPCOM, desarrolladora de videojuegos, desea analizar para uno de sus juegos más populares, cómo ha cambiado en los últimos meses el total de horas jugadas por sus usuarios. Los resultados semanales, en miles de horas, se presentan a continuación.\n",
    "\n",
    "  a. ¿Considera que la serie es estacionaria?\n",
    "  \n",
    "  b. Plantee un posible modelo ARMA/ARIMA/SARIMA teniendo en cuenta el ACF y PACF\n",
    "  \n",
    "#### Respuesta 5.\n",
    "Acá la respuesta"
   ]
  },
  {
   "cell_type": "markdown",
   "id": "fdeb165a",
   "metadata": {},
   "source": [
    "### 6. Valor esperado\n",
    "Sea el modelo estacionario $x_t=c+a_1x_{t-1}+a_2x_{t-2}+\\epsilon_t$. El valor esperado $E\\left(\\Delta x_t\\right)$ es:\n",
    "\n",
    "a. $\\frac{c}{a_1+a_2}$\n",
    "\n",
    "b. $\\frac{ca_1a_2}{1-a_1-a_2}$\n",
    "\n",
    "## c. $\\frac{c}{1-a_1-a_2}$\n",
    "\n",
    "d. $c+a_1+a_2$\n",
    "\n",
    "e. $c$\n",
    "\n",
    "f. 0\n",
    "\n",
    "g. Ninguna\n",
    "\n",
    "#### Respuesta 6.\n",
    "La opción correcta es la **c.** \n",
    "\n",
    "A continuación el procedimiento. Para encontrar el valor esperado se calcula\n",
    "$$\\begin{align*}\n",
    "E\\left(\\Delta x_t\\right)&=E\\left(c+a_1x_{t-1}+a_2x_{t-2}+\\epsilon_t\\right) \\\\\n",
    "&=E\\left(c\\right)+E\\left(a_1x_{t-1}\\right) + E\\left(a_2x_{t-2}\\right)+E\\left(\\epsilon_t\\right) \\\\\n",
    "&=c+a_1E\\left(\\Delta x_{t-1}\\right)+a_2E\\left(\\Delta x_{t-2}\\right)+0\n",
    "\\end{align*}\n",
    "$$\n",
    "que se puede reescribir como\n",
    "$$\n",
    "\\begin{align*}\n",
    "E\\left(\\Delta x_t\\right)-a_1E\\left(\\Delta x_{t-1}\\right)-a_2E\\left(\\Delta x_{t-2}\\right)=c\n",
    "\\end{align*}\n",
    "$$\n",
    "\n",
    "Dado que el modelo es estacionario se tiene que el valor esperado es\n",
    "$$\n",
    "E\\left(\\Delta x_t\\right)\\left(1-a_1-a_2\\right)=c\n",
    "$$\n",
    "\n",
    "$$\n",
    "E\\left(\\Delta x_t\\right)=\\frac{c}{\\left(1-a_1-a_2\\right)}\n",
    "$$"
   ]
  },
  {
   "cell_type": "markdown",
   "id": "787b787e",
   "metadata": {},
   "source": [
    "### 7. Análisis de datos\n",
    "\n",
    "Utilizando el conjunto de datos proporcionado en la carpeta comprimida ZIP realice un notebook en Python o R donde haga un resumen que contenga la siguiente información:\n",
    "\n",
    "  a. Análisis descriptivo de las variables manner_of_death y armed utilizando características sociodemográficas (age, gender, race, etc)\n",
    "  \n",
    "  b. Evolución en el tiempo de las muertes por estado (Seleccione los 5 estados con más muertes para facilitar la visualización)\n",
    "\n",
    "  c. Realice un análisis del ingreso, escolaridad, raza y pobreza para cada uno de los 5 estados.\n",
    "  \n",
    "#### Respuesta 7.\n",
    "Acá la respuesta"
   ]
  },
  {
   "cell_type": "markdown",
   "id": "e7293cb0",
   "metadata": {},
   "source": [
    "### 8. Modelo de aprendizaje automático\n",
    "Utilizando el mismo conjunto de datos del punto 7, implemente un modelo de aprendizaje automático que dadas ciertas variables sociodemográficas y del tipo de asesinato policiaco, permita predecir la raza de la persona.\n",
    "\n",
    "#### Respuesta 8.\n",
    "Acá la respuesta"
   ]
  },
  {
   "cell_type": "code",
   "execution_count": null,
   "id": "7ef9e05d",
   "metadata": {},
   "outputs": [],
   "source": []
  }
 ],
 "metadata": {
  "kernelspec": {
   "display_name": "Python 3",
   "language": "python",
   "name": "python3"
  },
  "language_info": {
   "codemirror_mode": {
    "name": "ipython",
    "version": 3
   },
   "file_extension": ".py",
   "mimetype": "text/x-python",
   "name": "python",
   "nbconvert_exporter": "python",
   "pygments_lexer": "ipython3",
   "version": "3.9.5"
  }
 },
 "nbformat": 4,
 "nbformat_minor": 5
}
