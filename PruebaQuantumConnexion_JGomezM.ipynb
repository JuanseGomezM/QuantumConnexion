{
 "cells": [
  {
   "cell_type": "markdown",
   "id": "26993d70",
   "metadata": {},
   "source": [
    "# QUANTUM CONNEXION\n",
    "## PRUEBA CIENTÍFICO DE DATOS"
   ]
  },
  {
   "cell_type": "markdown",
   "id": "cd13ae21",
   "metadata": {},
   "source": [
    "### Juansebastian Gómez Muñoz"
   ]
  },
  {
   "cell_type": "markdown",
   "id": "836c507c",
   "metadata": {},
   "source": [
    "## 1. RMSE vs. MSE \n",
    "\n",
    "¿Qué ventajas presenta el cálculo de la *Raíz Cuadrada del Error Cuadrático Medio* (**RMSE**) y su interpretación en relación con su versión ‘inicial’ *Error Cuadrático Medio* (**MSE**) en problemas de regresión (estimación de variables continuas)?\n",
    "\n",
    "### Respuesta 1.\n",
    "El **MSE** tiene las unidades de la variable dependiente al cuadrado y por lo tanto una de las ventajas de la **RMSE** es que su interpretación estadística es más directa porque es un resultado dado en las mismas unidades de la variable dependiente.\n",
    "\n",
    "También la **RMSE** permite comparar errores de predicción de diferentes modelos para un conjunto de datos en particular con más facilidad.\n",
    "\n",
    "***"
   ]
  },
  {
   "cell_type": "markdown",
   "id": "792fb1cd",
   "metadata": {},
   "source": [
    "## 2. Supervisado vs. No Supervisado\n",
    "\n",
    "Explique y contraste la diferencia entre procesos de Aprendizaje Supervisado y Aprendizaje No Supervisado. Incluya la explicación de al menos un algoritmo de ejemplo en cada categoría de aprendizaje.\n",
    "\n",
    "### Respuesta 2.\n",
    "La principal diferencia esta dada por las caracteristicas de los datos que se usan: en los procesos de Aprendizaje Supervisado los datos etiquetados (*labeled*) y en Aprendizaje No Supervisado son datos sin etiquetar (*unlabeled*). Esto significa que en procesos de Aprendizaje Supervisado, usando técnicas como **regresión** o **clasificación**, un conjunto de datos etiquetados se usan para entrenar el algoritmo y producir el resultado deseado. Este conjunto de datos de entrenamiento incluye entradas y salidas correctas, que permiten que el modelo aprenda con el tiempo. El algoritmo mide su precisión a través de la función de pérdida, ajustándose hasta que el error se haya minimizado lo suficiente. En procesos de Aprendizaje No Supervisado, usando técnicas como **clustering**, **asociación** y **reducción de dimensionalidad**, se utilizan algoritmos de aprendizaje automático para analizar y agrupar conjuntos de datos sin etiquetar. Estos algoritmos descubren patrones ocultos o agrupaciones de datos sin necesidad de intervención humana. Estos algoritmos tienen capacidad para descubrir similitudes y diferencias en la información. \n",
    "\n",
    "#### Ejemplos de algoritmos\n",
    "* Aprendizaje Supervisado\n",
    " + ***Linear regression***: los modelos de regresión son útiles para predecir valores numéricos basados en diferentes puntos de datos. La regresión lineal se usa para identificar la relación entre una variable dependiente y una o más variables independientes y generalmente se aprovecha para hacer predicciones sobre resultados futuros. Cuando solo hay una variable independiente y una variable dependiente, se conoce como **regresión lineal simple**. A medida que aumenta el número de variables independientes, se denomina **regresión lineal múltiple**. Para cada tipo de regresión lineal, busca trazar una línea de mejor ajuste, que se calcula mediante el método de mínimos cuadrados.\n",
    " \n",
    "* Aprendizaje No Supervisado:\n",
    " + ***K-means clustering***: el *clustering* es una técnica que agrupa datos sin etiquetar en función de sus similitudes o diferencias. Los algoritmos de *clustering* se pueden clasificar como: específicamente exclusivos, superpuestos, jerárquicos y probabilísticos. En el *clustering* específicamente exclusivo se estipula que un punto de datos solo puede existir en un clúster. El algoritmo de agrupación ***K-means*** es un ejemplo de *clustering* específicamente exclusivo. En el *K-means* los puntos de datos se asignan en $K$ grupos, donde $K$ representa el número de grupos en función de la distancia desde el centroide de cada grupo. Los puntos de datos más cercanos a un centroide determinado se agruparán en la misma categoría. Un valor de $K$ más grande será indicativo de agrupaciones más pequeñas con más granularidad, mientras que un valor de $K$ más pequeño tendrá agrupaciones más grandes y menos granularidad. Se utiliza en la segmentación del mercado, agrupación de documentos, la segmentación de imágenes y la compresión de imágenes.\n",
    " \n",
    "***"
   ]
  },
  {
   "cell_type": "markdown",
   "id": "370278a1",
   "metadata": {},
   "source": [
    "## 3. Clasificación binaria\n",
    "Asuma un problema de clasificación binaria.\n",
    "\n",
    "  a. Un algoritmo entrenado con un nivel de prevalencia del 3% que presenta una Precisión del 6% ¿es un mal   clasificador? (Hint: Omita el criterio hipotético con el que se pudo haber seleccionado el punto de corte para calcular la precisión)\n",
    "\n",
    "  b. Explique el concepto de prevalencia y cómo ésta afecta el aprendizaje de los algoritmos y por lo tanto su rendimiento.\n",
    "\n",
    "  c. ¿Por qué la Exactitud (Accuracy) deja de ser una métrica confiable en problemas con niveles de prevalencia demasiado bajos, por ejemplo, del 3%?\n",
    "  \n",
    "### Respuesta 3.\n",
    " **a.** Sí, es un mal clasificador porque solo el 6% de los positivos predecichos es realmente positivo.\n",
    " \n",
    " **b.** La prevalencia es el número de casos positivos en la muestra dividido por el número total de casos en la muestra. La prevalencia puede indicar el balance de los datos y de esta manera afectar el entrenamiento de algortimos\n",
    "   * Si la prevalencia es baja el algoritmo de clasificación clasificara como negativos la mayoría de los casos y esto produce una precisión baja.\n",
    "   * Si la prevalencia es alta, la precisión aumentara y por lo tanto disminuyen los falsos positivos.\n",
    " \n",
    " \n",
    " **c.** La exactitud mide el porcentaje de casos que el modelo ha acertado. La métrica de exactitud no funciona bien cuando las clases están desbalanceadas, por eso es necesario y útil utilizar otras métricas para evaluar el desempeño del clasificador.\n",
    "\n",
    "***"
   ]
  },
  {
   "cell_type": "markdown",
   "id": "2e4efff0",
   "metadata": {},
   "source": [
    "## 4. Matriz de confusión\n",
    "\n",
    "Las matrices de confusión o tablas de contingencia resultan ser una herramienta bastante útil a la hora de evaluar clasificadores. Responda las siguientes preguntas, en términos bayesianos o de probabilidades condicionales, basándose en la siguiente matriz:\n",
    "\n",
    "|              |        |      |Actual|      |\n",
    "|--------------|--------|------|------|------|\n",
    "|              |        |*Moroso*|*Al día*|*TOTAL* |\n",
    "|              |*Moroso*|400     |600     | 1000   |\n",
    "|**Predicción**|*Al día*|1000    |1500    | 2500   |\n",
    "|              |*TOTAL* |1400    |2100    | 3500   |\n",
    "\n",
    "  a. Reporte la precisión de este clasificador. Interprete.\n",
    "  \n",
    "  b. Reporte la exactitud (accuracy) de este clasificador. Interprete.\n",
    "  \n",
    "  c. Basado en la interpretación de los dos literales anteriores, ¿el clasificador es un buen clasificador? ¿Necesita más información para concluir? ¿Cuál? Explique.\n",
    "  \n",
    "  d. Interprete el valor resultante de dividir la precisión del clasificador entre la proporción real de morosos (i.e Precisión/P(Moroso = 1))\n",
    "  \n",
    "  e. Basado en su interpretación dada en el literal inmediatamente anterior, ¿el clasificador es un buen clasificador? Explique\n",
    "  \n",
    "  f. ¿Qué preguntas le haría a su colega acerca de la construcción de esta matriz de confusión? Enumere máximo tres (3) siendo la primera la más importante y la tercera la menos importante según su criterio.\n",
    "  \n",
    "### Respuesta 4."
   ]
  },
  {
   "cell_type": "code",
   "execution_count": null,
   "id": "3fbf64f3",
   "metadata": {},
   "outputs": [],
   "source": [
    "import numpy as np\n",
    "from sklearn.metrics import ConfusionMatrixDisplay\n",
    "\n",
    "cm = np.array(\n",
    "[[400, 600],\n",
    "[1000, 1500]]\n",
    ")\n",
    "\n",
    "cm1 = cm.T\n",
    "\n",
    "disp = ConfusionMatrixDisplay(confusion_matrix=cm1, display_labels = ['Moroso', 'Al día'])\n",
    "disp.plot()"
   ]
  },
  {
   "cell_type": "markdown",
   "id": "e3d4c6d4",
   "metadata": {},
   "source": [
    "**a.** La precisión se refiere a la dispersión del conjunto de valores obtenidos a partir de mediciones repetidas de una magnitud. Cuanto menor es la dispersión mayor la precisión. Se representa por la proporción entre el número de predicciones correctas (tanto \"morosos\" como \"al día\") y el total de predicciones."
   ]
  },
  {
   "cell_type": "code",
   "execution_count": null,
   "id": "43fc97db",
   "metadata": {},
   "outputs": [],
   "source": [
    "PPV = cm1[0,0] / float(np.sum(cm1[:,0]))\n",
    "\n",
    "print(\"La precisión de este clasificador es PPV =\",PPV)"
   ]
  },
  {
   "cell_type": "markdown",
   "id": "abf08931",
   "metadata": {},
   "source": [
    "De los morosos predichos, el clasificador predice al 40% de los morosos correctamente. Esto significa que el clasificador se equivoca un 60% de las veces que reporta un moroso.\n",
    "\n",
    "**b.** La exactitud (*accuracy*) se refiere a lo cerca que está el resultado de una medición del valor verdadero. Se representa por la proporción entre los positivos reales predichos por el algoritmo y todos los casos."
   ]
  },
  {
   "cell_type": "code",
   "execution_count": null,
   "id": "67ee89eb",
   "metadata": {},
   "outputs": [],
   "source": [
    "accuracy = np.trace(cm1) / float(np.sum(cm1))\n",
    "\n",
    "print(\"La exactitud de este clasificador es ACC =\",accuracy)"
   ]
  },
  {
   "cell_type": "markdown",
   "id": "9b87a295",
   "metadata": {},
   "source": [
    "Es decir que de las predicciones de este clasificador son correctas el 54% de las veces. Sin embargo a métrica de exactitud no funciona bien cuando las clases están desbalanceadas como en este ejercicio.\n",
    "\n",
    "**c.** La mayoría de los clientes no son morosos, así que es más fácil acertar diciendo que no lo son. \n",
    "\n",
    "Para problemas con clases desbalanceadas es mucho mejor usar precision, recall y F1. Estas métricas dan una mejor idea de la calidad del modelo.\n",
    "\n",
    "La métrica *recall* informa sobre la cantidad que el clasificador es capaz de identificar. En este caso da el porcentaje de los clientes morosos que se identifican."
   ]
  },
  {
   "cell_type": "code",
   "execution_count": null,
   "id": "6674d20d",
   "metadata": {},
   "outputs": [],
   "source": [
    "recall = cm1[0,0] / float(np.sum(cm1[0]))\n",
    "\n",
    "print(\"Recall de este clasificador es TPR =\",recall)"
   ]
  },
  {
   "cell_type": "markdown",
   "id": "376fd01c",
   "metadata": {},
   "source": [
    "Es decir, el clasificador  sólo es capaz de identificar un 28% de los morosos.\n",
    "\n",
    "**d.** La proporción real de morosos (**PRM**) es la proporción entre total de morosos y el total de la población."
   ]
  },
  {
   "cell_type": "code",
   "execution_count": null,
   "id": "8df94217",
   "metadata": {},
   "outputs": [],
   "source": [
    "PRM = float(np.sum(cm1[0])) / float(np.sum(cm1))\n",
    "\n",
    "Value1 = PPV / PRM\n",
    "\n",
    "print('La proporción real de morosos es PRM =', PRM)\n",
    "print('El valor resultante de dividir la precisión del clasificador entre la proporción real de morosos es igual a', Value1)"
   ]
  },
  {
   "cell_type": "markdown",
   "id": "86ad33bf",
   "metadata": {},
   "source": [
    "Esta proporción de probabilidades indica que la proporción real de morosos es igual a la precisión del clasificador o, en otras palabras, la prevalencia tiene el mismo valor de la precisión.\n",
    "\n",
    "**e.** El clasificador NO es un buen clasificador porque identifica como morosos únicamente al 40% de los que realmente lo son.\n",
    "\n",
    "**f.** Las preguntas acerca de la construcción de la matriz serían:\n",
    "  1. ¿Cuál es el peso de los criterios de clasificación entre *moroso* y *al día*?\n",
    "  2. ¿Cuál es el tamaño de la muestra con la que se entreno el algoritmo? "
   ]
  },
  {
   "cell_type": "markdown",
   "id": "d6c6f359",
   "metadata": {},
   "source": [
    "***"
   ]
  },
  {
   "cell_type": "markdown",
   "id": "7c0b16f7",
   "metadata": {},
   "source": [
    "## 5. Series de tiempo\n",
    "\n",
    "La empresa CRAPCOM, desarrolladora de videojuegos, desea analizar para uno de sus juegos más populares, cómo ha cambiado en los últimos meses el total de horas jugadas por sus usuarios. Los resultados semanales, en miles de horas, se presentan a continuación.\n",
    "\n",
    "![fishy](./TimeSeries.jpg)\n",
    "\n",
    "  a. ¿Considera que la serie es estacionaria?\n",
    "  \n",
    "  b. Plantee un posible modelo ARMA/ARIMA/SARIMA teniendo en cuenta el ACF y PACF\n",
    "  \n",
    "### Respuesta 5.\n",
    "**a.** Sí puede considerarse una serie es estacionaria. Gráficamente los valores de la serie tienden a oscilar alrededor de una media constante y la variabilidad con respecto a esa media también permanece constante en el tiempo. Es una serie básicamente estable a lo largo del tiempo, sin que se aprecien aumentos o disminuciones sistemáticos de sus valores.\n",
    "\n",
    "**b.** Como las gráficas ACF y PACF muestran un patrón de disminución gradual, entonces el proceso **A**uto **R**egressive **M**oving **A**verage (**ARMA**) puede considerarse para el modelado. Aunque **ACF** y **PACF** no dictan directamente el orden del modelo ARMA, los gráficos pueden facilitar la comprensión del orden y proporcionar una idea de qué modelo puede ser un buen ajuste para los datos de la serie temporal. \n",
    "\n",
    "El módelo que se plantea es ARMA(*p*,*q*) = ARMA(2,2). Donde el PACF tiene una caída después de *q* retrasos significativos, y la ACF debería mostrar una caída después de un cierto número *p* de rezagos. \n",
    "\n",
    "***"
   ]
  },
  {
   "cell_type": "markdown",
   "id": "fdeb165a",
   "metadata": {},
   "source": [
    "## 6. Valor esperado\n",
    "Sea el modelo estacionario $x_t=c+a_1x_{t-1}+a_2x_{t-2}+\\epsilon_t$. El valor esperado $E\\left(\\Delta x_t\\right)$ es:\n",
    "\n",
    "a. $\\frac{c}{a_1+a_2}$\n",
    "\n",
    "b. $\\frac{ca_1a_2}{1-a_1-a_2}$\n",
    "\n",
    "## c. $\\frac{c}{1-a_1-a_2}$\n",
    "\n",
    "d. $c+a_1+a_2$\n",
    "\n",
    "e. $c$\n",
    "\n",
    "f. 0\n",
    "\n",
    "g. Ninguna\n",
    "\n",
    "### Respuesta 6.\n",
    "La opción correcta es la **c.** \n",
    "\n",
    "A continuación el procedimiento. Para encontrar el valor esperado se calcula\n",
    "$$\\begin{align*}\n",
    "E\\left(\\Delta x_t\\right)&=E\\left(c+a_1x_{t-1}+a_2x_{t-2}+\\epsilon_t\\right) \\\\\n",
    "&=E\\left(c\\right)+E\\left(a_1x_{t-1}\\right) + E\\left(a_2x_{t-2}\\right)+E\\left(\\epsilon_t\\right) \\\\\n",
    "&=c+a_1E\\left(\\Delta x_{t-1}\\right)+a_2E\\left(\\Delta x_{t-2}\\right)+0\n",
    "\\end{align*}\n",
    "$$\n",
    "que se puede reescribir como\n",
    "$$\n",
    "\\begin{align*}\n",
    "E\\left(\\Delta x_t\\right)-a_1E\\left(\\Delta x_{t-1}\\right)-a_2E\\left(\\Delta x_{t-2}\\right)=c\n",
    "\\end{align*}\n",
    "$$\n",
    "\n",
    "Dado que el modelo es estacionario se tiene que el valor esperado es\n",
    "$$\n",
    "E\\left(\\Delta x_t\\right)\\left(1-a_1-a_2\\right)=c\n",
    "$$\n",
    "\n",
    "$$\n",
    "E\\left(\\Delta x_t\\right)=\\frac{c}{\\left(1-a_1-a_2\\right)}\n",
    "$$\n",
    "\n",
    "***"
   ]
  },
  {
   "cell_type": "markdown",
   "id": "787b787e",
   "metadata": {},
   "source": [
    "## 7. Análisis de datos\n",
    "\n",
    "Utilizando el conjunto de datos proporcionado en la carpeta comprimida ZIP realice un notebook en Python o R donde haga un resumen que contenga la siguiente información:\n",
    "\n",
    "  a. Análisis descriptivo de las variables manner_of_death y armed utilizando características sociodemográficas (age, gender, race, etc)\n",
    "  \n",
    "  b. Evolución en el tiempo de las muertes por estado (Seleccione los 5 estados con más muertes para facilitar la visualización)\n",
    "\n",
    "  c. Realice un análisis del ingreso, escolaridad, raza y pobreza para cada uno de los 5 estados.\n",
    "  \n",
    "### Respuesta 7.\n",
    "El primer paso es importar las librerias de Python útiles para el aálisis de los datos."
   ]
  },
  {
   "cell_type": "code",
   "execution_count": null,
   "id": "31a2bb14",
   "metadata": {},
   "outputs": [],
   "source": [
    "import pandas as pd\n",
    "import matplotlib.pyplot as plt\n",
    "import plotly.express as px\n",
    "import seaborn as sns\n",
    "%matplotlib inline"
   ]
  },
  {
   "cell_type": "markdown",
   "id": "0460b947",
   "metadata": {},
   "source": [
    "Se utiliza el método de Pandas read_csv() para cargar los datos desde el archivo suministrado."
   ]
  },
  {
   "cell_type": "code",
   "execution_count": null,
   "id": "cbea1ca6",
   "metadata": {},
   "outputs": [],
   "source": [
    "df = pd.read_csv(\"PoliciaAsesinatos.csv\")\n",
    "df.head()"
   ]
  },
  {
   "cell_type": "markdown",
   "id": "efc699ec",
   "metadata": {},
   "source": [
    "Es útil conocer los tipos de variables de los datos para decidir sobre el método de visualización a usar."
   ]
  },
  {
   "cell_type": "code",
   "execution_count": null,
   "id": "b3cb6378",
   "metadata": {},
   "outputs": [],
   "source": [
    "df.dtypes"
   ]
  },
  {
   "cell_type": "markdown",
   "id": "9a980710",
   "metadata": {},
   "source": [
    "### Data wrangling\n",
    "\n",
    "A continuación se identifican los valores faltantes y usando un looop, se puede calcular el número de valores faltantes en cada columna. \n",
    "\"True\" representa un valor perdido, \"False\" significa que el valor está presente en el conjunto de datos. En el *bucle*, el método `.value_counts ()` cuenta el número de valores \"True\"."
   ]
  },
  {
   "cell_type": "code",
   "execution_count": null,
   "id": "b1dc47cd",
   "metadata": {
    "scrolled": true
   },
   "outputs": [],
   "source": [
    "missing_data = df.isnull()"
   ]
  },
  {
   "cell_type": "code",
   "execution_count": null,
   "id": "3606c57c",
   "metadata": {},
   "outputs": [],
   "source": [
    "for column in missing_data.columns.values.tolist():\n",
    "    print(column)\n",
    "    print (missing_data[column].value_counts())\n",
    "    print(\"\")"
   ]
  },
  {
   "cell_type": "markdown",
   "id": "82096cdd",
   "metadata": {},
   "source": [
    "Con base en esta información se sabe que cada columna tiene 2535 filas de datos. Cuatro (4) columnas contienen datos faltantes:\n",
    "\n",
    " 1. \"armed\": 9 datos faltantes.\n",
    " 2. \"age\": 77 datos faltantes.\n",
    " 3. \"race\": 195 datos faltantes.\n",
    " 4. \"flee\": 65 datos faltantes.\n",
    " \n",
    "Utilizando el método `.describe()` se obtiene información estadística de los datos, tanto de las variables categoricas como de las númericas."
   ]
  },
  {
   "cell_type": "code",
   "execution_count": null,
   "id": "d48ac2df",
   "metadata": {},
   "outputs": [],
   "source": [
    "df.describe(include=['object','bool'])"
   ]
  },
  {
   "cell_type": "code",
   "execution_count": null,
   "id": "53c98b5a",
   "metadata": {
    "scrolled": true
   },
   "outputs": [],
   "source": [
    "df.describe(include=['float64'])"
   ]
  },
  {
   "cell_type": "markdown",
   "id": "e8c95c00",
   "metadata": {},
   "source": [
    "A continuación se muestra la distribución de las edad para las dos variables de la categoria \"manner_of_death\": \"shot\" (azul) y \"shot and Teasered\" (naranja)."
   ]
  },
  {
   "cell_type": "code",
   "execution_count": null,
   "id": "595ad54f",
   "metadata": {},
   "outputs": [],
   "source": [
    "sns.set(rc={'figure.figsize':(11.7,8.27)})\n",
    "sns.histplot(df,\n",
    "    x=\"age\", hue=\"manner_of_death\",\n",
    "    multiple=\"stack\",\n",
    "    edgecolor=\".3\",\n",
    "    linewidth=.5,\n",
    ")"
   ]
  },
  {
   "cell_type": "markdown",
   "id": "b7c97b2d",
   "metadata": {},
   "source": [
    "La siguiete gráfica también permite describir la estadistica de la edad para cada variable de la categoria \"manner of death\"."
   ]
  },
  {
   "cell_type": "code",
   "execution_count": null,
   "id": "117074a9",
   "metadata": {
    "scrolled": true
   },
   "outputs": [],
   "source": [
    "sns.boxplot(x=\"manner_of_death\", y=\"age\", data=df)"
   ]
  },
  {
   "cell_type": "markdown",
   "id": "e95090b0",
   "metadata": {},
   "source": [
    "El siguiente gráfico muestra la distribución de razas (\"race\") según las variables de la categoría \"manner of death\" para cada genero (gender): Masculino (M) a la izquierda y Femenino (F) a la derecha.\n",
    "\n",
    "Este gráfico muestra que la información respecto a el genero femenino es poca. También que la mayoría de victimas son de genero maculino y de raza blanca, seguido por individuos de raza negra."
   ]
  },
  {
   "cell_type": "code",
   "execution_count": null,
   "id": "454eb0b0",
   "metadata": {
    "scrolled": true
   },
   "outputs": [],
   "source": [
    "sns.catplot(x=\"manner_of_death\", hue=\"race\", col=\"gender\",\n",
    "\n",
    "                data=df, kind=\"count\",\n",
    "\n",
    "                height=4);"
   ]
  },
  {
   "cell_type": "markdown",
   "id": "338f43f5",
   "metadata": {},
   "source": [
    "El siguiente histograma permite visualizar la proporción de individuos con enfermedad mental (\"signs of mental illness) asesinados por cada categoria de \"manner of death\"."
   ]
  },
  {
   "cell_type": "code",
   "execution_count": null,
   "id": "524be003",
   "metadata": {
    "scrolled": false
   },
   "outputs": [],
   "source": [
    "sns.histplot(df,\n",
    "    x=\"manner_of_death\", hue=\"signs_of_mental_illness\",\n",
    "    multiple=\"stack\",\n",
    "    edgecolor=\".3\",\n",
    "    linewidth=.5,\n",
    ")"
   ]
  },
  {
   "cell_type": "markdown",
   "id": "f8b537ad",
   "metadata": {},
   "source": [
    "El gráfico a continuación muestra el porcentaje de cada clase de arma utilizada en los asesinatos. Se han gráficado únicamente las 7 armas más útilizadas para facilitar la visualización, que incluyen el no uso de armas (unarmed) y arma indeterminada (undetermined)."
   ]
  },
  {
   "cell_type": "code",
   "execution_count": null,
   "id": "4f96ddee",
   "metadata": {
    "scrolled": true
   },
   "outputs": [],
   "source": [
    "Manner_counts = df['armed'].value_counts()\n",
    "df2 = pd.DataFrame({'manner_type': Manner_counts})\n",
    "df2= df2.head(7)\n",
    "df2.plot.pie(y='manner_type', figsize=(10,10), autopct='%1.1f%%')"
   ]
  },
  {
   "cell_type": "markdown",
   "id": "a843dbc3",
   "metadata": {},
   "source": [
    "El siguiente histograma da una primera idea de la distribución del tipo arma usada segun la edad."
   ]
  },
  {
   "cell_type": "code",
   "execution_count": null,
   "id": "1b4e2387",
   "metadata": {},
   "outputs": [],
   "source": [
    "armed_age = sns.histplot(df,\n",
    "    x=\"age\", hue=\"armed\",\n",
    "    multiple=\"stack\",\n",
    "    edgecolor=\".3\",\n",
    "    linewidth=.5,\n",
    "    #legend = False\n",
    ")"
   ]
  },
  {
   "cell_type": "markdown",
   "id": "67250b2d",
   "metadata": {},
   "source": [
    "**b.** Para determinar los cinco estados con más muertes se pude visualizar el total de muertes por estado en el periodo de tiempo de los datos."
   ]
  },
  {
   "cell_type": "code",
   "execution_count": null,
   "id": "20cdcd71",
   "metadata": {},
   "outputs": [],
   "source": [
    "plt.figure(figsize=(20,10))\n",
    "\n",
    "df_state = df['state'].value_counts()\n",
    "df_state = df_state.sort_values(ascending=True)\n",
    "ax = df_state.plot(ylabel=\"STATE\", kind=\"barh\")"
   ]
  },
  {
   "cell_type": "markdown",
   "id": "4a959529",
   "metadata": {},
   "source": [
    "Entonces los estados con más muertes, que se utilizaran para continuar el análisis son:\n",
    "* California (CA)\n",
    "* Texas (TX)\n",
    "* Florida (FL)\n",
    "* Arizona (AZ)\n",
    "* Ohio (OH)"
   ]
  },
  {
   "cell_type": "markdown",
   "id": "ac5a60df",
   "metadata": {},
   "source": [
    "Para trabajar con las fechas (*date*) es necesario convertir el tipo de datos de *object* a *datetime*."
   ]
  },
  {
   "cell_type": "code",
   "execution_count": null,
   "id": "f2545dad",
   "metadata": {},
   "outputs": [],
   "source": [
    "df['date'] = pd.to_datetime(df['date'], format='%d/%m/%y')"
   ]
  },
  {
   "cell_type": "markdown",
   "id": "96ff0c51",
   "metadata": {},
   "source": [
    "Una manera de utilizar la información de cada estado es agrupando los crimenes por estado y contabilizar el total de asesinatos en un periodo de tiempo. En este caso para facilitar la visualización se escoge una frecuencia temporal mensual."
   ]
  },
  {
   "cell_type": "code",
   "execution_count": null,
   "id": "fc16c42b",
   "metadata": {},
   "outputs": [],
   "source": [
    "df_timestate2 = df.groupby(['state', pd.Grouper(key='date', freq='M')]).size()\n",
    "df_timestate2"
   ]
  },
  {
   "cell_type": "code",
   "execution_count": null,
   "id": "1f6525cf",
   "metadata": {
    "scrolled": true
   },
   "outputs": [],
   "source": [
    "#Graficar la serie de tiempo\n",
    "top_states = (\"CA\", \"TX\",'FL','AZ','OH')\n",
    "fig, ax2 = plt.subplots(nrows = 1, ncols = 1,figsize=(20,10))\n",
    "\n",
    "for state in range(len(top_states)):\n",
    "    ax2.plot(df_timestate2[top_states[state]])\n",
    "             \n",
    "plt.legend(top_states)\n",
    "plt.show()"
   ]
  }
 ],
 "metadata": {
  "kernelspec": {
   "display_name": "Python 3",
   "language": "python",
   "name": "python3"
  },
  "language_info": {
   "codemirror_mode": {
    "name": "ipython",
    "version": 3
   },
   "file_extension": ".py",
   "mimetype": "text/x-python",
   "name": "python",
   "nbconvert_exporter": "python",
   "pygments_lexer": "ipython3",
   "version": "3.9.5"
  }
 },
 "nbformat": 4,
 "nbformat_minor": 5
}
