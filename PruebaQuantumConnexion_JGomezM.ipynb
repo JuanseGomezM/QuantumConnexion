{
 "cells": [
  {
   "cell_type": "markdown",
   "id": "26993d70",
   "metadata": {},
   "source": [
    "# QUANTUM CONNEXION\n",
    "## PRUEBA CIENTÍFICO DE DATOS"
   ]
  },
  {
   "cell_type": "markdown",
   "id": "cd13ae21",
   "metadata": {},
   "source": [
    "### Juansebastian Gómez Muñoz"
   ]
  },
  {
   "cell_type": "markdown",
   "id": "836c507c",
   "metadata": {},
   "source": [
    "## 1. RMSE vs. MSE \n",
    "\n",
    "¿Qué ventajas presenta el cálculo de la *Raíz Cuadrada del Error Cuadrático Medio* (**RMSE**) y su interpretación en relación con su versión ‘inicial’ *Error Cuadrático Medio* (**MSE**) en problemas de regresión (estimación de variables continuas)?\n",
    "\n",
    "### Respuesta 1.\n",
    "El **MSE** tiene las unidades de la variable dependiente al cuadrado y por lo tanto una de las ventajas de la **RMSE** es que su interpretación estadística es más directa porque es un resultado dado en las mismas unidades de la variable dependiente.\n",
    "\n",
    "También la **RMSE** permite comparar errores de predicción de diferentes modelos para un conjunto de datos en particular con más facilidad.\n",
    "\n",
    "***"
   ]
  },
  {
   "cell_type": "markdown",
   "id": "792fb1cd",
   "metadata": {},
   "source": [
    "## 2. Supervisado vs. No Supervisado\n",
    "\n",
    "Explique y contraste la diferencia entre procesos de Aprendizaje Supervisado y Aprendizaje No Supervisado. Incluya la explicación de al menos un algoritmo de ejemplo en cada categoría de aprendizaje.\n",
    "\n",
    "### Respuesta 2.\n",
    "La principal diferencia esta dada por las caracteristicas de los datos que se usan: en los procesos de Aprendizaje Supervisado los datos etiquetados (*labeled*) y en Aprendizaje No Supervisado son datos sin etiquetar (*unlabeled*). Esto significa que en procesos de Aprendizaje Supervisado, usando técnicas como **regresión** o **clasificación**, un conjunto de datos etiquetados se usan para entrenar el algoritmo y producir el resultado deseado. Este conjunto de datos de entrenamiento incluye entradas y salidas correctas, que permiten que el modelo aprenda con el tiempo. El algoritmo mide su precisión a través de la función de pérdida, ajustándose hasta que el error se haya minimizado lo suficiente. En procesos de Aprendizaje No Supervisado, usando técnicas como **clustering**, **asociación** y **reducción de dimensionalidad**, se utilizan algoritmos de aprendizaje automático para analizar y agrupar conjuntos de datos sin etiquetar. Estos algoritmos descubren patrones ocultos o agrupaciones de datos sin necesidad de intervención humana. Estos algoritmos tienen capacidad para descubrir similitudes y diferencias en la información. \n",
    "\n",
    "#### Ejemplos de algoritmos\n",
    "* Aprendizaje Supervisado\n",
    " + ***Linear regression***: los modelos de regresión son útiles para predecir valores numéricos basados en diferentes puntos de datos. La regresión lineal se usa para identificar la relación entre una variable dependiente y una o más variables independientes y generalmente se aprovecha para hacer predicciones sobre resultados futuros. Cuando solo hay una variable independiente y una variable dependiente, se conoce como **regresión lineal simple**. A medida que aumenta el número de variables independientes, se denomina **regresión lineal múltiple**. Para cada tipo de regresión lineal, busca trazar una línea de mejor ajuste, que se calcula mediante el método de mínimos cuadrados.\n",
    " \n",
    "* Aprendizaje No Supervisado:\n",
    " + ***K-means clustering***: el *clustering* es una técnica que agrupa datos sin etiquetar en función de sus similitudes o diferencias. Los algoritmos de *clustering* se pueden clasificar como: específicamente exclusivos, superpuestos, jerárquicos y probabilísticos. En el *clustering* específicamente exclusivo se estipula que un punto de datos solo puede existir en un clúster. El algoritmo de agrupación ***K-means*** es un ejemplo de *clustering* específicamente exclusivo. En el *K-means* los puntos de datos se asignan en $K$ grupos, donde $K$ representa el número de grupos en función de la distancia desde el centroide de cada grupo. Los puntos de datos más cercanos a un centroide determinado se agruparán en la misma categoría. Un valor de $K$ más grande será indicativo de agrupaciones más pequeñas con más granularidad, mientras que un valor de $K$ más pequeño tendrá agrupaciones más grandes y menos granularidad. Se utiliza en la segmentación del mercado, agrupación de documentos, la segmentación de imágenes y la compresión de imágenes.\n",
    " \n",
    "***"
   ]
  },
  {
   "cell_type": "markdown",
   "id": "370278a1",
   "metadata": {},
   "source": [
    "## 3. Clasificación binaria\n",
    "Asuma un problema de clasificación binaria.\n",
    "\n",
    "  a. Un algoritmo entrenado con un nivel de prevalencia del 3% que presenta una Precisión del 6% ¿es un mal   clasificador? (Hint: Omita el criterio hipotético con el que se pudo haber seleccionado el punto de corte para calcular la precisión)\n",
    "\n",
    "  b. Explique el concepto de prevalencia y cómo ésta afecta el aprendizaje de los algoritmos y por lo tanto su rendimiento.\n",
    "\n",
    "  c. ¿Por qué la Exactitud (Accuracy) deja de ser una métrica confiable en problemas con niveles de prevalencia demasiado bajos, por ejemplo, del 3%?\n",
    "  \n",
    "### Respuesta 3.\n",
    " **a.** Sí, es un mal clasificador porque solo el 6% de los positivos predichos es realmente positivo.\n",
    " \n",
    " **b.** La prevalencia es el número de casos positivos en la muestra dividido por el número total de casos en la muestra. La prevalencia puede indicar el balance de los datos y de esta manera afectar el entrenamiento de algortimos\n",
    "   * Si la prevalencia es baja el algoritmo de clasificación clasificara como negativos la mayoría de los casos y esto produce una precisión baja.\n",
    "   * Si la prevalencia es alta, la precisión aumentara y por lo tanto disminuyen los falsos positivos.\n",
    " \n",
    " \n",
    " **c.** La exactitud mide el porcentaje de casos que el modelo ha acertado. La métrica de exactitud no funciona bien cuando las clases están desbalanceadas, por eso es necesario y útil utilizar otras métricas para evaluar el desempeño del clasificador.\n",
    "\n",
    "***"
   ]
  },
  {
   "cell_type": "markdown",
   "id": "2e4efff0",
   "metadata": {},
   "source": [
    "## 4. Matriz de confusión\n",
    "\n",
    "Las matrices de confusión o tablas de contingencia resultan ser una herramienta bastante útil a la hora de evaluar clasificadores. Responda las siguientes preguntas, en términos bayesianos o de probabilidades condicionales, basándose en la siguiente matriz:\n",
    "\n",
    "|              |        |      |Actual|      |\n",
    "|--------------|--------|------|------|------|\n",
    "|              |        |*Moroso*|*Al día*|*TOTAL* |\n",
    "|              |*Moroso*|400     |600     | 1000   |\n",
    "|**Predicción**|*Al día*|1000    |1500    | 2500   |\n",
    "|              |*TOTAL* |1400    |2100    | 3500   |\n",
    "\n",
    "  a. Reporte la precisión de este clasificador. Interprete.\n",
    "  \n",
    "  b. Reporte la exactitud (accuracy) de este clasificador. Interprete.\n",
    "  \n",
    "  c. Basado en la interpretación de los dos literales anteriores, ¿el clasificador es un buen clasificador? ¿Necesita más información para concluir? ¿Cuál? Explique.\n",
    "  \n",
    "  d. Interprete el valor resultante de dividir la precisión del clasificador entre la proporción real de morosos (i.e Precisión/P(Moroso = 1))\n",
    "  \n",
    "  e. Basado en su interpretación dada en el literal inmediatamente anterior, ¿el clasificador es un buen clasificador? Explique\n",
    "  \n",
    "  f. ¿Qué preguntas le haría a su colega acerca de la construcción de esta matriz de confusión? Enumere máximo tres (3) siendo la primera la más importante y la tercera la menos importante según su criterio.\n",
    "  \n",
    "### Respuesta 4."
   ]
  },
  {
   "cell_type": "code",
   "execution_count": 1,
   "id": "3fbf64f3",
   "metadata": {},
   "outputs": [
    {
     "data": {
      "text/plain": [
       "<sklearn.metrics._plot.confusion_matrix.ConfusionMatrixDisplay at 0x7fcf1ce4f850>"
      ]
     },
     "execution_count": 1,
     "metadata": {},
     "output_type": "execute_result"
    },
    {
     "data": {
      "image/png": "[encoded data removed]",
      "text/plain": [
       "<Figure size 432x288 with 2 Axes>"
      ]
     },
     "metadata": {
      "needs_background": "light"
     },
     "output_type": "display_data"
    }
   ],
   "source": [
    "import numpy as np\n",
    "from sklearn.metrics import ConfusionMatrixDisplay\n",
    "\n",
    "cm = np.array(\n",
    "[[400, 600],\n",
    "[1000, 1500]]\n",
    ")\n",
    "\n",
    "cm1 = cm.T\n",
    "\n",
    "disp = ConfusionMatrixDisplay(confusion_matrix=cm1, display_labels = ['Moroso', 'Al día'])\n",
    "disp.plot()"
   ]
  },
  {
   "cell_type": "markdown",
   "id": "e3d4c6d4",
   "metadata": {},
   "source": [
    "**a.** La precisión se refiere a la dispersión del conjunto de valores obtenidos a partir de mediciones repetidas de una magnitud. Cuanto menor es la dispersión mayor la precisión. Se representa por la proporción entre el número de predicciones correctas (tanto \"morosos\" como \"al día\") y el total de predicciones."
   ]
  },
  {
   "cell_type": "code",
   "execution_count": 2,
   "id": "43fc97db",
   "metadata": {},
   "outputs": [
    {
     "name": "stdout",
     "output_type": "stream",
     "text": [
      "La precisión de este clasificador es PPV = 0.4\n"
     ]
    }
   ],
   "source": [
    "PPV = cm1[0,0] / float(np.sum(cm1[:,0]))\n",
    "\n",
    "print(\"La precisión de este clasificador es PPV =\",PPV)"
   ]
  },
  {
   "cell_type": "markdown",
   "id": "abf08931",
   "metadata": {},
   "source": [
    "De los morosos predichos, el clasificador predice al 40% de los morosos correctamente. Esto significa que el clasificador se equivoca un 60% de las veces que reporta un moroso.\n",
    "\n",
    "**b.** La exactitud (*accuracy*) se refiere a lo cerca que está el resultado de una medición del valor verdadero. Se representa por la proporción entre los positivos reales predichos por el algoritmo y todos los casos."
   ]
  },
  {
   "cell_type": "code",
   "execution_count": 3,
   "id": "67ee89eb",
   "metadata": {},
   "outputs": [
    {
     "name": "stdout",
     "output_type": "stream",
     "text": [
      "La exactitud de este clasificador es ACC = 0.5428571428571428\n"
     ]
    }
   ],
   "source": [
    "accuracy = np.trace(cm1) / float(np.sum(cm1))\n",
    "\n",
    "print(\"La exactitud de este clasificador es ACC =\",accuracy)"
   ]
  },
  {
   "cell_type": "markdown",
   "id": "9b87a295",
   "metadata": {},
   "source": [
    "Es decir que de las predicciones de este clasificador son correctas el 54% de las veces. Sin embargo a métrica de exactitud no funciona bien cuando las clases están desbalanceadas como en este ejercicio.\n",
    "\n",
    "**c.** La mayoría de los clientes no son morosos, así que es más fácil acertar diciendo que no lo son. \n",
    "\n",
    "Para problemas con clases desbalanceadas es mucho mejor usar precision, recall y F1. Estas métricas dan una mejor idea de la calidad del modelo.\n",
    "\n",
    "La métrica *recall* informa sobre la cantidad que el clasificador es capaz de identificar. En este caso da el porcentaje de los clientes morosos que se identifican."
   ]
  },
  {
   "cell_type": "code",
   "execution_count": 4,
   "id": "6674d20d",
   "metadata": {},
   "outputs": [
    {
     "name": "stdout",
     "output_type": "stream",
     "text": [
      "Recall de este clasificador es TPR = 0.2857142857142857\n"
     ]
    }
   ],
   "source": [
    "recall = cm1[0,0] / float(np.sum(cm1[0]))\n",
    "\n",
    "print(\"Recall de este clasificador es TPR =\",recall)"
   ]
  },
  {
   "cell_type": "markdown",
   "id": "376fd01c",
   "metadata": {},
   "source": [
    "Es decir, el clasificador  sólo es capaz de identificar un 28% de los morosos.\n",
    "\n",
    "**d.** La proporción real de morosos (**PRM**) es la proporción entre total de morosos y el total de la población."
   ]
  },
  {
   "cell_type": "code",
   "execution_count": 5,
   "id": "8df94217",
   "metadata": {},
   "outputs": [
    {
     "name": "stdout",
     "output_type": "stream",
     "text": [
      "La proporción real de morosos es PRM = 0.4\n",
      "El valor resultante de dividir la precisión del clasificador entre la proporción real de morosos es igual a 1.0\n"
     ]
    }
   ],
   "source": [
    "PRM = float(np.sum(cm1[0])) / float(np.sum(cm1))\n",
    "\n",
    "Value1 = PPV / PRM\n",
    "\n",
    "print('La proporción real de morosos es PRM =', PRM)\n",
    "print('El valor resultante de dividir la precisión del clasificador entre la proporción real de morosos es igual a', Value1)"
   ]
  },
  {
   "cell_type": "markdown",
   "id": "86ad33bf",
   "metadata": {},
   "source": [
    "Esta proporción de probabilidades indica que la proporción real de morosos es igual a la precisión del clasificador o, en otras palabras, la prevalencia tiene el mismo valor de la precisión.\n",
    "\n",
    "**e.** El clasificador NO es un buen clasificador porque identifica como morosos únicamente al 40% de los que realmente lo son.\n",
    "\n",
    "**f.** Las preguntas acerca de la construcción de la matriz serían:\n",
    "  1. ¿Cuál es el peso de los criterios de clasificación entre *moroso* y *al día*?\n",
    "  2. ¿Cuál es el tamaño de la muestra con la que se entreno el algoritmo? "
   ]
  },
  {
   "cell_type": "markdown",
   "id": "d6c6f359",
   "metadata": {},
   "source": [
    "***"
   ]
  },
  {
   "cell_type": "markdown",
   "id": "7c0b16f7",
   "metadata": {},
   "source": [
    "## 5. Series de tiempo\n",
    "\n",
    "La empresa CRAPCOM, desarrolladora de videojuegos, desea analizar para uno de sus juegos más populares, cómo ha cambiado en los últimos meses el total de horas jugadas por sus usuarios. Los resultados semanales, en miles de horas, se presentan a continuación.\n",
    "\n",
    "![fishy](./TimeSeries.jpg)\n",
    "\n",
    "  a. ¿Considera que la serie es estacionaria?\n",
    "  \n",
    "  b. Plantee un posible modelo ARMA/ARIMA/SARIMA teniendo en cuenta el ACF y PACF\n",
    "  \n",
    "### Respuesta 5.\n",
    "**a.** Sí puede considerarse una serie es estacionaria. Gráficamente los valores de la serie tienden a oscilar alrededor de una media constante y la variabilidad con respecto a esa media también permanece constante en el tiempo. Es una serie básicamente estable a lo largo del tiempo, sin que se aprecien aumentos o disminuciones sistemáticos de sus valores.\n",
    "\n",
    "**b.** Como las gráficas ACF y PACF muestran un patrón de disminución gradual, entonces el proceso **A**uto **R**egressive **M**oving **A**verage (**ARMA**) puede considerarse para el modelado. Aunque **ACF** y **PACF** no dictan directamente el orden del modelo ARMA, los gráficos pueden facilitar la comprensión del orden y proporcionar una idea de qué modelo puede ser un buen ajuste para los datos de la serie temporal. \n",
    "\n",
    "El módelo que se plantea es ARMA(*p*,*q*) = ARMA(2,2). Donde el PACF tiene una caída después de *q* retrasos significativos, y la ACF debería mostrar una caída después de un cierto número *p* de rezagos. \n",
    "\n",
    "***"
   ]
  },
  {
   "cell_type": "markdown",
   "id": "fdeb165a",
   "metadata": {},
   "source": [
    "## 6. Valor esperado\n",
    "Sea el modelo estacionario $x_t=c+a_1x_{t-1}+a_2x_{t-2}+\\epsilon_t$. El valor esperado $E\\left(\\Delta x_t\\right)$ es:\n",
    "\n",
    "a. $\\frac{c}{a_1+a_2}$\n",
    "\n",
    "b. $\\frac{ca_1a_2}{1-a_1-a_2}$\n",
    "\n",
    "## c. $\\frac{c}{1-a_1-a_2}$\n",
    "\n",
    "d. $c+a_1+a_2$\n",
    "\n",
    "e. $c$\n",
    "\n",
    "f. 0\n",
    "\n",
    "g. Ninguna\n",
    "\n",
    "### Respuesta 6.\n",
    "La opción correcta es la **c.** \n",
    "\n",
    "A continuación el procedimiento. Para encontrar el valor esperado se calcula\n",
    "$$\\begin{align*}\n",
    "E\\left(\\Delta x_t\\right)&=E\\left(c+a_1x_{t-1}+a_2x_{t-2}+\\epsilon_t\\right) \\\\\n",
    "&=E\\left(c\\right)+E\\left(a_1x_{t-1}\\right) + E\\left(a_2x_{t-2}\\right)+E\\left(\\epsilon_t\\right) \\\\\n",
    "&=c+a_1E\\left(\\Delta x_{t-1}\\right)+a_2E\\left(\\Delta x_{t-2}\\right)+0\n",
    "\\end{align*}\n",
    "$$\n",
    "que se puede reescribir como\n",
    "$$\n",
    "\\begin{align*}\n",
    "E\\left(\\Delta x_t\\right)-a_1E\\left(\\Delta x_{t-1}\\right)-a_2E\\left(\\Delta x_{t-2}\\right)=c\n",
    "\\end{align*}\n",
    "$$\n",
    "\n",
    "Dado que el modelo es estacionario se tiene que el valor esperado es\n",
    "$$\n",
    "E\\left(\\Delta x_t\\right)\\left(1-a_1-a_2\\right)=c\n",
    "$$\n",
    "\n",
    "$$\n",
    "E\\left(\\Delta x_t\\right)=\\frac{c}{\\left(1-a_1-a_2\\right)}\n",
    "$$\n",
    "\n",
    "***"
   ]
  },
  {
   "cell_type": "markdown",
   "id": "787b787e",
   "metadata": {},
   "source": [
    "## 7. Análisis de datos\n",
    "\n",
    "Utilizando el conjunto de datos proporcionado en la carpeta comprimida ZIP realice un notebook en Python o R donde haga un resumen que contenga la siguiente información:\n",
    "\n",
    "  a. Análisis descriptivo de las variables manner_of_death y armed utilizando características sociodemográficas (age, gender, race, etc)\n",
    "  \n",
    "  b. Evolución en el tiempo de las muertes por estado (Seleccione los 5 estados con más muertes para facilitar la visualización)\n",
    "\n",
    "  c. Realice un análisis del ingreso, escolaridad, raza y pobreza para cada uno de los 5 estados.\n",
    "  \n",
    "### Respuesta 7.\n",
    "El primer paso es importar las librerias de Python útiles para el análisis de los datos."
   ]
  },
  {
   "cell_type": "code",
   "execution_count": 6,
   "id": "31a2bb14",
   "metadata": {},
   "outputs": [],
   "source": [
    "import pandas as pd\n",
    "import matplotlib.pyplot as plt\n",
    "import plotly.express as px\n",
    "import seaborn as sns\n",
    "%matplotlib inline"
   ]
  },
  {
   "cell_type": "markdown",
   "id": "0460b947",
   "metadata": {},
   "source": [
    "Se utiliza el método de Pandas read_csv() para cargar los datos desde el archivo suministrado."
   ]
  },
  {
   "cell_type": "code",
   "execution_count": 7,
   "id": "cbea1ca6",
   "metadata": {},
   "outputs": [
    {
     "data": {
      "text/html": [
       "<div>\n",
       "<style scoped>\n",
       "    .dataframe tbody tr th:only-of-type {\n",
       "        vertical-align: middle;\n",
       "    }\n",
       "\n",
       "    .dataframe tbody tr th {\n",
       "        vertical-align: top;\n",
       "    }\n",
       "\n",
       "    .dataframe thead th {\n",
       "        text-align: right;\n",
       "    }\n",
       "</style>\n",
       "<table border=\"1\" class=\"dataframe\">\n",
       "  <thead>\n",
       "    <tr style=\"text-align: right;\">\n",
       "      <th></th>\n",
       "      <th>id</th>\n",
       "      <th>name</th>\n",
       "      <th>date</th>\n",
       "      <th>manner_of_death</th>\n",
       "      <th>armed</th>\n",
       "      <th>age</th>\n",
       "      <th>gender</th>\n",
       "      <th>race</th>\n",
       "      <th>City</th>\n",
       "      <th>state</th>\n",
       "      <th>signs_of_mental_illness</th>\n",
       "      <th>threat_level</th>\n",
       "      <th>flee</th>\n",
       "      <th>body_camera</th>\n",
       "    </tr>\n",
       "  </thead>\n",
       "  <tbody>\n",
       "    <tr>\n",
       "      <th>0</th>\n",
       "      <td>3</td>\n",
       "      <td>Tim Elliot</td>\n",
       "      <td>02/01/15</td>\n",
       "      <td>shot</td>\n",
       "      <td>gun</td>\n",
       "      <td>53.0</td>\n",
       "      <td>M</td>\n",
       "      <td>A</td>\n",
       "      <td>Shelton</td>\n",
       "      <td>WA</td>\n",
       "      <td>True</td>\n",
       "      <td>attack</td>\n",
       "      <td>Not fleeing</td>\n",
       "      <td>False</td>\n",
       "    </tr>\n",
       "    <tr>\n",
       "      <th>1</th>\n",
       "      <td>4</td>\n",
       "      <td>Lewis Lee Lembke</td>\n",
       "      <td>02/01/15</td>\n",
       "      <td>shot</td>\n",
       "      <td>gun</td>\n",
       "      <td>47.0</td>\n",
       "      <td>M</td>\n",
       "      <td>W</td>\n",
       "      <td>Aloha</td>\n",
       "      <td>OR</td>\n",
       "      <td>False</td>\n",
       "      <td>attack</td>\n",
       "      <td>Not fleeing</td>\n",
       "      <td>False</td>\n",
       "    </tr>\n",
       "    <tr>\n",
       "      <th>2</th>\n",
       "      <td>5</td>\n",
       "      <td>John Paul Quintero</td>\n",
       "      <td>03/01/15</td>\n",
       "      <td>shot and Tasered</td>\n",
       "      <td>unarmed</td>\n",
       "      <td>23.0</td>\n",
       "      <td>M</td>\n",
       "      <td>H</td>\n",
       "      <td>Wichita</td>\n",
       "      <td>KS</td>\n",
       "      <td>False</td>\n",
       "      <td>other</td>\n",
       "      <td>Not fleeing</td>\n",
       "      <td>False</td>\n",
       "    </tr>\n",
       "    <tr>\n",
       "      <th>3</th>\n",
       "      <td>8</td>\n",
       "      <td>Matthew Hoffman</td>\n",
       "      <td>04/01/15</td>\n",
       "      <td>shot</td>\n",
       "      <td>toy weapon</td>\n",
       "      <td>32.0</td>\n",
       "      <td>M</td>\n",
       "      <td>W</td>\n",
       "      <td>San Francisco</td>\n",
       "      <td>CA</td>\n",
       "      <td>True</td>\n",
       "      <td>attack</td>\n",
       "      <td>Not fleeing</td>\n",
       "      <td>False</td>\n",
       "    </tr>\n",
       "    <tr>\n",
       "      <th>4</th>\n",
       "      <td>9</td>\n",
       "      <td>Michael Rodriguez</td>\n",
       "      <td>04/01/15</td>\n",
       "      <td>shot</td>\n",
       "      <td>nail gun</td>\n",
       "      <td>39.0</td>\n",
       "      <td>M</td>\n",
       "      <td>H</td>\n",
       "      <td>Evans</td>\n",
       "      <td>CO</td>\n",
       "      <td>False</td>\n",
       "      <td>attack</td>\n",
       "      <td>Not fleeing</td>\n",
       "      <td>False</td>\n",
       "    </tr>\n",
       "  </tbody>\n",
       "</table>\n",
       "</div>"
      ],
      "text/plain": [
       "   id                name      date   manner_of_death       armed   age  \\\n",
       "0   3          Tim Elliot  02/01/15              shot         gun  53.0   \n",
       "1   4    Lewis Lee Lembke  02/01/15              shot         gun  47.0   \n",
       "2   5  John Paul Quintero  03/01/15  shot and Tasered     unarmed  23.0   \n",
       "3   8     Matthew Hoffman  04/01/15              shot  toy weapon  32.0   \n",
       "4   9   Michael Rodriguez  04/01/15              shot    nail gun  39.0   \n",
       "\n",
       "  gender race           City state  signs_of_mental_illness threat_level  \\\n",
       "0      M    A        Shelton    WA                     True       attack   \n",
       "1      M    W          Aloha    OR                    False       attack   \n",
       "2      M    H        Wichita    KS                    False        other   \n",
       "3      M    W  San Francisco    CA                     True       attack   \n",
       "4      M    H          Evans    CO                    False       attack   \n",
       "\n",
       "          flee  body_camera  \n",
       "0  Not fleeing        False  \n",
       "1  Not fleeing        False  \n",
       "2  Not fleeing        False  \n",
       "3  Not fleeing        False  \n",
       "4  Not fleeing        False  "
      ]
     },
     "execution_count": 7,
     "metadata": {},
     "output_type": "execute_result"
    }
   ],
   "source": [
    "df = pd.read_csv(\"PoliciaAsesinatos.csv\")\n",
    "df.head()"
   ]
  },
  {
   "cell_type": "markdown",
   "id": "efc699ec",
   "metadata": {},
   "source": [
    "Es útil conocer los tipos de variables de los datos para decidir sobre el método de visualización a usar."
   ]
  },
  {
   "cell_type": "code",
   "execution_count": 8,
   "id": "b3cb6378",
   "metadata": {},
   "outputs": [
    {
     "data": {
      "text/plain": [
       "id                           int64\n",
       "name                        object\n",
       "date                        object\n",
       "manner_of_death             object\n",
       "armed                       object\n",
       "age                        float64\n",
       "gender                      object\n",
       "race                        object\n",
       "City                        object\n",
       "state                       object\n",
       "signs_of_mental_illness       bool\n",
       "threat_level                object\n",
       "flee                        object\n",
       "body_camera                   bool\n",
       "dtype: object"
      ]
     },
     "execution_count": 8,
     "metadata": {},
     "output_type": "execute_result"
    }
   ],
   "source": [
    "df.dtypes"
   ]
  },
  {
   "cell_type": "markdown",
   "id": "9a980710",
   "metadata": {},
   "source": [
    "### Data wrangling\n",
    "\n",
    "A continuación se identifican los valores faltantes y usando un looop, se puede calcular el número de valores faltantes en cada columna. \n",
    "\"True\" representa un valor perdido, \"False\" significa que el valor está presente en el conjunto de datos. En el *bucle*, el método `.value_counts ()` cuenta el número de valores \"True\"."
   ]
  },
  {
   "cell_type": "code",
   "execution_count": 9,
   "id": "b1dc47cd",
   "metadata": {
    "scrolled": true
   },
   "outputs": [],
   "source": [
    "missing_data = df.isnull()"
   ]
  },
  {
   "cell_type": "code",
   "execution_count": 10,
   "id": "3606c57c",
   "metadata": {},
   "outputs": [
    {
     "name": "stdout",
     "output_type": "stream",
     "text": [
      "id\n",
      "False    2535\n",
      "Name: id, dtype: int64\n",
      "\n",
      "name\n",
      "False    2535\n",
      "Name: name, dtype: int64\n",
      "\n",
      "date\n",
      "False    2535\n",
      "Name: date, dtype: int64\n",
      "\n",
      "manner_of_death\n",
      "False    2535\n",
      "Name: manner_of_death, dtype: int64\n",
      "\n",
      "armed\n",
      "False    2526\n",
      "True        9\n",
      "Name: armed, dtype: int64\n",
      "\n",
      "age\n",
      "False    2458\n",
      "True       77\n",
      "Name: age, dtype: int64\n",
      "\n",
      "gender\n",
      "False    2535\n",
      "Name: gender, dtype: int64\n",
      "\n",
      "race\n",
      "False    2340\n",
      "True      195\n",
      "Name: race, dtype: int64\n",
      "\n",
      "City\n",
      "False    2535\n",
      "Name: City, dtype: int64\n",
      "\n",
      "state\n",
      "False    2535\n",
      "Name: state, dtype: int64\n",
      "\n",
      "signs_of_mental_illness\n",
      "False    2535\n",
      "Name: signs_of_mental_illness, dtype: int64\n",
      "\n",
      "threat_level\n",
      "False    2535\n",
      "Name: threat_level, dtype: int64\n",
      "\n",
      "flee\n",
      "False    2470\n",
      "True       65\n",
      "Name: flee, dtype: int64\n",
      "\n",
      "body_camera\n",
      "False    2535\n",
      "Name: body_camera, dtype: int64\n",
      "\n"
     ]
    }
   ],
   "source": [
    "for column in missing_data.columns.values.tolist():\n",
    "    print(column)\n",
    "    print (missing_data[column].value_counts())\n",
    "    print(\"\")"
   ]
  },
  {
   "cell_type": "markdown",
   "id": "82096cdd",
   "metadata": {},
   "source": [
    "Con base en esta información se sabe que cada columna tiene 2535 filas de datos. Cuatro (4) columnas contienen datos faltantes:\n",
    "\n",
    " 1. \"armed\": 9 datos faltantes.\n",
    " 2. \"age\": 77 datos faltantes.\n",
    " 3. \"race\": 195 datos faltantes.\n",
    " 4. \"flee\": 65 datos faltantes.\n",
    " \n",
    "Utilizando el método `.describe()` se obtiene información estadística de los datos, tanto de las variables categoricas como de las númericas."
   ]
  },
  {
   "cell_type": "code",
   "execution_count": 11,
   "id": "d48ac2df",
   "metadata": {},
   "outputs": [
    {
     "data": {
      "text/html": [
       "<div>\n",
       "<style scoped>\n",
       "    .dataframe tbody tr th:only-of-type {\n",
       "        vertical-align: middle;\n",
       "    }\n",
       "\n",
       "    .dataframe tbody tr th {\n",
       "        vertical-align: top;\n",
       "    }\n",
       "\n",
       "    .dataframe thead th {\n",
       "        text-align: right;\n",
       "    }\n",
       "</style>\n",
       "<table border=\"1\" class=\"dataframe\">\n",
       "  <thead>\n",
       "    <tr style=\"text-align: right;\">\n",
       "      <th></th>\n",
       "      <th>name</th>\n",
       "      <th>date</th>\n",
       "      <th>manner_of_death</th>\n",
       "      <th>armed</th>\n",
       "      <th>gender</th>\n",
       "      <th>race</th>\n",
       "      <th>City</th>\n",
       "      <th>state</th>\n",
       "      <th>signs_of_mental_illness</th>\n",
       "      <th>threat_level</th>\n",
       "      <th>flee</th>\n",
       "      <th>body_camera</th>\n",
       "    </tr>\n",
       "  </thead>\n",
       "  <tbody>\n",
       "    <tr>\n",
       "      <th>count</th>\n",
       "      <td>2535</td>\n",
       "      <td>2535</td>\n",
       "      <td>2535</td>\n",
       "      <td>2526</td>\n",
       "      <td>2535</td>\n",
       "      <td>2340</td>\n",
       "      <td>2535</td>\n",
       "      <td>2535</td>\n",
       "      <td>2535</td>\n",
       "      <td>2535</td>\n",
       "      <td>2470</td>\n",
       "      <td>2535</td>\n",
       "    </tr>\n",
       "    <tr>\n",
       "      <th>unique</th>\n",
       "      <td>2481</td>\n",
       "      <td>879</td>\n",
       "      <td>2</td>\n",
       "      <td>68</td>\n",
       "      <td>2</td>\n",
       "      <td>6</td>\n",
       "      <td>1417</td>\n",
       "      <td>51</td>\n",
       "      <td>2</td>\n",
       "      <td>3</td>\n",
       "      <td>4</td>\n",
       "      <td>2</td>\n",
       "    </tr>\n",
       "    <tr>\n",
       "      <th>top</th>\n",
       "      <td>TK TK</td>\n",
       "      <td>24/01/17</td>\n",
       "      <td>shot</td>\n",
       "      <td>gun</td>\n",
       "      <td>M</td>\n",
       "      <td>W</td>\n",
       "      <td>Los Angeles</td>\n",
       "      <td>CA</td>\n",
       "      <td>False</td>\n",
       "      <td>attack</td>\n",
       "      <td>Not fleeing</td>\n",
       "      <td>False</td>\n",
       "    </tr>\n",
       "    <tr>\n",
       "      <th>freq</th>\n",
       "      <td>49</td>\n",
       "      <td>8</td>\n",
       "      <td>2363</td>\n",
       "      <td>1398</td>\n",
       "      <td>2428</td>\n",
       "      <td>1201</td>\n",
       "      <td>39</td>\n",
       "      <td>424</td>\n",
       "      <td>1902</td>\n",
       "      <td>1611</td>\n",
       "      <td>1695</td>\n",
       "      <td>2264</td>\n",
       "    </tr>\n",
       "  </tbody>\n",
       "</table>\n",
       "</div>"
      ],
      "text/plain": [
       "         name      date manner_of_death armed gender  race         City state  \\\n",
       "count    2535      2535            2535  2526   2535  2340         2535  2535   \n",
       "unique   2481       879               2    68      2     6         1417    51   \n",
       "top     TK TK  24/01/17            shot   gun      M     W  Los Angeles    CA   \n",
       "freq       49         8            2363  1398   2428  1201           39   424   \n",
       "\n",
       "       signs_of_mental_illness threat_level         flee body_camera  \n",
       "count                     2535         2535         2470        2535  \n",
       "unique                       2            3            4           2  \n",
       "top                      False       attack  Not fleeing       False  \n",
       "freq                      1902         1611         1695        2264  "
      ]
     },
     "execution_count": 11,
     "metadata": {},
     "output_type": "execute_result"
    }
   ],
   "source": [
    "df.describe(include=['object','bool'])"
   ]
  },
  {
   "cell_type": "code",
   "execution_count": 12,
   "id": "53c98b5a",
   "metadata": {
    "scrolled": true
   },
   "outputs": [
    {
     "data": {
      "text/html": [
       "<div>\n",
       "<style scoped>\n",
       "    .dataframe tbody tr th:only-of-type {\n",
       "        vertical-align: middle;\n",
       "    }\n",
       "\n",
       "    .dataframe tbody tr th {\n",
       "        vertical-align: top;\n",
       "    }\n",
       "\n",
       "    .dataframe thead th {\n",
       "        text-align: right;\n",
       "    }\n",
       "</style>\n",
       "<table border=\"1\" class=\"dataframe\">\n",
       "  <thead>\n",
       "    <tr style=\"text-align: right;\">\n",
       "      <th></th>\n",
       "      <th>age</th>\n",
       "    </tr>\n",
       "  </thead>\n",
       "  <tbody>\n",
       "    <tr>\n",
       "      <th>count</th>\n",
       "      <td>2458.000000</td>\n",
       "    </tr>\n",
       "    <tr>\n",
       "      <th>mean</th>\n",
       "      <td>36.605370</td>\n",
       "    </tr>\n",
       "    <tr>\n",
       "      <th>std</th>\n",
       "      <td>13.030774</td>\n",
       "    </tr>\n",
       "    <tr>\n",
       "      <th>min</th>\n",
       "      <td>6.000000</td>\n",
       "    </tr>\n",
       "    <tr>\n",
       "      <th>25%</th>\n",
       "      <td>26.000000</td>\n",
       "    </tr>\n",
       "    <tr>\n",
       "      <th>50%</th>\n",
       "      <td>34.000000</td>\n",
       "    </tr>\n",
       "    <tr>\n",
       "      <th>75%</th>\n",
       "      <td>45.000000</td>\n",
       "    </tr>\n",
       "    <tr>\n",
       "      <th>max</th>\n",
       "      <td>91.000000</td>\n",
       "    </tr>\n",
       "  </tbody>\n",
       "</table>\n",
       "</div>"
      ],
      "text/plain": [
       "               age\n",
       "count  2458.000000\n",
       "mean     36.605370\n",
       "std      13.030774\n",
       "min       6.000000\n",
       "25%      26.000000\n",
       "50%      34.000000\n",
       "75%      45.000000\n",
       "max      91.000000"
      ]
     },
     "execution_count": 12,
     "metadata": {},
     "output_type": "execute_result"
    }
   ],
   "source": [
    "df.describe(include=['float64'])"
   ]
  },
  {
   "cell_type": "markdown",
   "id": "d41fb4fb",
   "metadata": {},
   "source": [
    "A continuación se muestra la distribución de las edad para las dos variables de la categoria \"manner_of_death\": \"shot\" (azul) y \"shot and Teasered\" (naranja)."
   ]
  },
  {
   "cell_type": "code",
   "execution_count": 13,
   "id": "595ad54f",
   "metadata": {},
   "outputs": [
    {
     "data": {
      "text/plain": [
       "<AxesSubplot:xlabel='age', ylabel='Count'>"
      ]
     },
     "execution_count": 13,
     "metadata": {},
     "output_type": "execute_result"
    },
    {
     "data": {
      "image/png": "[encoded data removed]",
      "text/plain": [
       "<Figure size 842.4x595.44 with 1 Axes>"
      ]
     },
     "metadata": {},
     "output_type": "display_data"
    }
   ],
   "source": [
    "sns.set(rc={'figure.figsize':(11.7,8.27)})\n",
    "sns.histplot(df,\n",
    "    x=\"age\", hue=\"manner_of_death\",\n",
    "    multiple=\"stack\",\n",
    "    edgecolor=\".3\",\n",
    "    linewidth=.5,\n",
    ")"
   ]
  },
  {
   "cell_type": "markdown",
   "id": "2b403783",
   "metadata": {},
   "source": [
    "La siguiente gráfica también permite describir la estadistica de la edad para cada variable de la categoria \"manner of death\"."
   ]
  },
  {
   "cell_type": "code",
   "execution_count": 14,
   "id": "117074a9",
   "metadata": {
    "scrolled": true
   },
   "outputs": [
    {
     "data": {
      "text/plain": [
       "<AxesSubplot:xlabel='manner_of_death', ylabel='age'>"
      ]
     },
     "execution_count": 14,
     "metadata": {},
     "output_type": "execute_result"
    },
    {
     "data": {
      "image/png": "[encoded data removed]",
      "text/plain": [
       "<Figure size 842.4x595.44 with 1 Axes>"
      ]
     },
     "metadata": {},
     "output_type": "display_data"
    }
   ],
   "source": [
    "sns.boxplot(x=\"manner_of_death\", y=\"age\", data=df)"
   ]
  },
  {
   "cell_type": "markdown",
   "id": "e34d758c",
   "metadata": {},
   "source": [
    "El siguiente gráfico muestra la distribución de razas (\"race\") según las variables de la categoría \"manner of death\" para cada genero (gender): Masculino (M) a la izquierda y Femenino (F) a la derecha.\n",
    "\n",
    "Este gráfico muestra que la información respecto a el genero femenino es poca. También que la mayoría de victimas son de genero maculino y de raza blanca, seguido por individuos de raza negra."
   ]
  },
  {
   "cell_type": "code",
   "execution_count": 15,
   "id": "454eb0b0",
   "metadata": {
    "scrolled": true
   },
   "outputs": [
    {
     "data": {
      "image/png": "[encoded data removed]",
      "text/plain": [
       "<Figure size 626.475x288 with 2 Axes>"
      ]
     },
     "metadata": {},
     "output_type": "display_data"
    }
   ],
   "source": [
    "sns.catplot(x=\"manner_of_death\", hue=\"race\", col=\"gender\",\n",
    "\n",
    "                data=df, kind=\"count\",\n",
    "\n",
    "                height=4);"
   ]
  },
  {
   "cell_type": "markdown",
   "id": "f0cfa3e4",
   "metadata": {},
   "source": [
    "El siguiente histograma permite visualizar la proporción de individuos con enfermedad mental (\"signs of mental illness) asesinados por cada categoria de \"manner of death\"."
   ]
  },
  {
   "cell_type": "code",
   "execution_count": 16,
   "id": "524be003",
   "metadata": {
    "scrolled": false
   },
   "outputs": [
    {
     "data": {
      "text/plain": [
       "<AxesSubplot:xlabel='manner_of_death', ylabel='Count'>"
      ]
     },
     "execution_count": 16,
     "metadata": {},
     "output_type": "execute_result"
    },
    {
     "data": {
      "image/png": "[encoded data removed]",
      "text/plain": [
       "<Figure size 842.4x595.44 with 1 Axes>"
      ]
     },
     "metadata": {},
     "output_type": "display_data"
    }
   ],
   "source": [
    "sns.histplot(df,\n",
    "    x=\"manner_of_death\", hue=\"signs_of_mental_illness\",\n",
    "    multiple=\"stack\",\n",
    "    edgecolor=\".3\",\n",
    "    linewidth=.5,\n",
    ")"
   ]
  },
  {
   "cell_type": "markdown",
   "id": "6e4ef004",
   "metadata": {},
   "source": [
    "El gráfico a continuación muestra el porcentaje de cada clase de arma utilizada en los asesinatos. Se han gráficado únicamente las 7 armas más útilizadas para facilitar la visualización, que incluyen el no uso de armas (unarmed) y arma indeterminada (undetermined)."
   ]
  },
  {
   "cell_type": "code",
   "execution_count": 17,
   "id": "4f96ddee",
   "metadata": {
    "scrolled": true
   },
   "outputs": [
    {
     "data": {
      "text/plain": [
       "<AxesSubplot:ylabel='manner_type'>"
      ]
     },
     "execution_count": 17,
     "metadata": {},
     "output_type": "execute_result"
    },
    {
     "data": {
      "image/png": "[encoded data removed]",
      "text/plain": [
       "<Figure size 720x720 with 1 Axes>"
      ]
     },
     "metadata": {},
     "output_type": "display_data"
    }
   ],
   "source": [
    "Manner_counts = df['armed'].value_counts()\n",
    "df2 = pd.DataFrame({'manner_type': Manner_counts})\n",
    "df2= df2.head(7)\n",
    "df2.plot.pie(y='manner_type', figsize=(10,10), autopct='%1.1f%%')"
   ]
  },
  {
   "cell_type": "markdown",
   "id": "c463824c",
   "metadata": {},
   "source": [
    "El siguiente histograma da una primera idea de la distribución del tipo arma usada segun la edad."
   ]
  },
  {
   "cell_type": "code",
   "execution_count": 18,
   "id": "f193b095",
   "metadata": {},
   "outputs": [
    {
     "data": {
      "image/png": "[encoded data removed]",
      "text/plain": [
       "<Figure size 842.4x595.44 with 1 Axes>"
      ]
     },
     "metadata": {},
     "output_type": "display_data"
    }
   ],
   "source": [
    "armed_age = sns.histplot(df,\n",
    "    x=\"age\", hue=\"armed\",\n",
    "    multiple=\"stack\",\n",
    "    edgecolor=\".3\",\n",
    "    linewidth=.5,\n",
    "    #legend = False\n",
    ")"
   ]
  },
  {
   "cell_type": "markdown",
   "id": "17b0fa94",
   "metadata": {},
   "source": [
    "**b.** Para determinar los cinco estados con más muertes se pude visualizar el total de muertes por estado en el periodo de tiempo de los datos."
   ]
  },
  {
   "cell_type": "code",
   "execution_count": 19,
   "id": "20cdcd71",
   "metadata": {},
   "outputs": [
    {
     "data": {
      "image/png": "[encoded data removed]",
      "text/plain": [
       "<Figure size 1440x720 with 1 Axes>"
      ]
     },
     "metadata": {},
     "output_type": "display_data"
    }
   ],
   "source": [
    "plt.figure(figsize=(20,10))\n",
    "\n",
    "df_state = df['state'].value_counts()\n",
    "df_state = df_state.sort_values(ascending=True)\n",
    "ax = df_state.plot(ylabel=\"STATE\", kind=\"barh\")"
   ]
  },
  {
   "cell_type": "markdown",
   "id": "77b1141e",
   "metadata": {},
   "source": [
    "Entonces los estados con más muertes, que se utilizaran para continuar el análisis son:\n",
    "* California (CA)\n",
    "* Texas (TX)\n",
    "* Florida (FL)\n",
    "* Arizona (AZ)\n",
    "* Ohio (OH)"
   ]
  },
  {
   "cell_type": "markdown",
   "id": "ac5a60df",
   "metadata": {},
   "source": [
    "Para trabajar con las fechas (*date*) es necesario convertir el tipo de datos de *object* a *datetime*."
   ]
  },
  {
   "cell_type": "code",
   "execution_count": 20,
   "id": "f2545dad",
   "metadata": {},
   "outputs": [],
   "source": [
    "df['date'] = pd.to_datetime(df['date'], format='%d/%m/%y')"
   ]
  },
  {
   "cell_type": "markdown",
   "id": "8f0cbb67",
   "metadata": {},
   "source": [
    "Una manera de utilizar la información de cada estado es agrupando los crimenes por estado y contabilizar el total de asesinatos en un periodo de tiempo. En este caso para facilitar la visualización se escoge una frecuencia temporal mensual."
   ]
  },
  {
   "cell_type": "code",
   "execution_count": 21,
   "id": "fc16c42b",
   "metadata": {},
   "outputs": [
    {
     "data": {
      "text/plain": [
       "state  date      \n",
       "AK     2015-02-28    1\n",
       "       2015-09-30    2\n",
       "       2015-10-31    1\n",
       "       2016-01-31    1\n",
       "       2016-02-29    2\n",
       "                    ..\n",
       "WV     2017-05-31    1\n",
       "WY     2015-05-31    1\n",
       "       2015-07-31    3\n",
       "       2015-12-31    2\n",
       "       2016-06-30    2\n",
       "Length: 973, dtype: int64"
      ]
     },
     "execution_count": 21,
     "metadata": {},
     "output_type": "execute_result"
    }
   ],
   "source": [
    "df_timestate2 = df.groupby(['state', pd.Grouper(key='date', freq='M')]).size()\n",
    "df_timestate2"
   ]
  },
  {
   "cell_type": "code",
   "execution_count": 22,
   "id": "1f6525cf",
   "metadata": {
    "scrolled": true
   },
   "outputs": [
    {
     "data": {
      "image/png": "[encoded data removed]",
      "text/plain": [
       "<Figure size 1440x720 with 1 Axes>"
      ]
     },
     "metadata": {},
     "output_type": "display_data"
    }
   ],
   "source": [
    "#Graficar la serie de tiempo\n",
    "top_states = (\"CA\", \"TX\",'FL','AZ','OH')\n",
    "fig, ax2 = plt.subplots(nrows = 1, ncols = 1,figsize=(20,10))\n",
    "\n",
    "for state in range(len(top_states)):\n",
    "    ax2.plot(df_timestate2[top_states[state]])\n",
    "             \n",
    "plt.legend(top_states)\n",
    "plt.show()"
   ]
  },
  {
   "cell_type": "markdown",
   "id": "5c0c3ab3",
   "metadata": {},
   "source": [
    "**c.** El primer paso es unificar los datos de ingreso, escolaridad, raza y pobreza en un único dataframe para facilitar el análisis."
   ]
  },
  {
   "cell_type": "code",
   "execution_count": 23,
   "id": "690c49dd",
   "metadata": {},
   "outputs": [
    {
     "data": {
      "text/html": [
       "<div>\n",
       "<style scoped>\n",
       "    .dataframe tbody tr th:only-of-type {\n",
       "        vertical-align: middle;\n",
       "    }\n",
       "\n",
       "    .dataframe tbody tr th {\n",
       "        vertical-align: top;\n",
       "    }\n",
       "\n",
       "    .dataframe thead th {\n",
       "        text-align: right;\n",
       "    }\n",
       "</style>\n",
       "<table border=\"1\" class=\"dataframe\">\n",
       "  <thead>\n",
       "    <tr style=\"text-align: right;\">\n",
       "      <th></th>\n",
       "      <th>Geographic Area</th>\n",
       "      <th>City</th>\n",
       "      <th>share_white</th>\n",
       "      <th>share_black</th>\n",
       "      <th>share_native_american</th>\n",
       "      <th>share_asian</th>\n",
       "      <th>share_hispanic</th>\n",
       "      <th>percent_completed_hs</th>\n",
       "      <th>Median Income</th>\n",
       "      <th>poverty_rate</th>\n",
       "    </tr>\n",
       "  </thead>\n",
       "  <tbody>\n",
       "    <tr>\n",
       "      <th>0</th>\n",
       "      <td>AL</td>\n",
       "      <td>Abanda CDP</td>\n",
       "      <td>67.2</td>\n",
       "      <td>30.2</td>\n",
       "      <td>0.0</td>\n",
       "      <td>0.0</td>\n",
       "      <td>1.6</td>\n",
       "      <td>21.2</td>\n",
       "      <td>11207.0</td>\n",
       "      <td>78.8</td>\n",
       "    </tr>\n",
       "    <tr>\n",
       "      <th>1</th>\n",
       "      <td>AL</td>\n",
       "      <td>Abbeville city</td>\n",
       "      <td>54.4</td>\n",
       "      <td>41.4</td>\n",
       "      <td>0.1</td>\n",
       "      <td>1.0</td>\n",
       "      <td>3.1</td>\n",
       "      <td>69.1</td>\n",
       "      <td>25615.0</td>\n",
       "      <td>29.1</td>\n",
       "    </tr>\n",
       "    <tr>\n",
       "      <th>2</th>\n",
       "      <td>AL</td>\n",
       "      <td>Adamsville city</td>\n",
       "      <td>52.3</td>\n",
       "      <td>44.9</td>\n",
       "      <td>0.5</td>\n",
       "      <td>0.3</td>\n",
       "      <td>2.3</td>\n",
       "      <td>78.9</td>\n",
       "      <td>42575.0</td>\n",
       "      <td>25.5</td>\n",
       "    </tr>\n",
       "    <tr>\n",
       "      <th>3</th>\n",
       "      <td>AL</td>\n",
       "      <td>Addison town</td>\n",
       "      <td>99.1</td>\n",
       "      <td>0.1</td>\n",
       "      <td>0.0</td>\n",
       "      <td>0.1</td>\n",
       "      <td>0.4</td>\n",
       "      <td>81.4</td>\n",
       "      <td>37083.0</td>\n",
       "      <td>30.7</td>\n",
       "    </tr>\n",
       "    <tr>\n",
       "      <th>4</th>\n",
       "      <td>AL</td>\n",
       "      <td>Akron town</td>\n",
       "      <td>13.2</td>\n",
       "      <td>86.5</td>\n",
       "      <td>0.0</td>\n",
       "      <td>0.0</td>\n",
       "      <td>0.3</td>\n",
       "      <td>68.6</td>\n",
       "      <td>21667.0</td>\n",
       "      <td>42.0</td>\n",
       "    </tr>\n",
       "  </tbody>\n",
       "</table>\n",
       "</div>"
      ],
      "text/plain": [
       "  Geographic Area             City  share_white  share_black  \\\n",
       "0              AL       Abanda CDP         67.2         30.2   \n",
       "1              AL   Abbeville city         54.4         41.4   \n",
       "2              AL  Adamsville city         52.3         44.9   \n",
       "3              AL     Addison town         99.1          0.1   \n",
       "4              AL       Akron town         13.2         86.5   \n",
       "\n",
       "   share_native_american  share_asian  share_hispanic  percent_completed_hs  \\\n",
       "0                    0.0          0.0             1.6                  21.2   \n",
       "1                    0.1          1.0             3.1                  69.1   \n",
       "2                    0.5          0.3             2.3                  78.9   \n",
       "3                    0.0          0.1             0.4                  81.4   \n",
       "4                    0.0          0.0             0.3                  68.6   \n",
       "\n",
       "   Median Income  poverty_rate  \n",
       "0        11207.0          78.8  \n",
       "1        25615.0          29.1  \n",
       "2        42575.0          25.5  \n",
       "3        37083.0          30.7  \n",
       "4        21667.0          42.0  "
      ]
     },
     "execution_count": 23,
     "metadata": {},
     "output_type": "execute_result"
    }
   ],
   "source": [
    "from functools import reduce\n",
    "\n",
    "race = pd.read_csv(\"RazaCiudades.csv\")\n",
    "education = pd.read_csv(\"EducacionCiudades.csv\")\n",
    "income = pd.read_csv(\"IngresoCiudades.csv\")\n",
    "poverty = pd.read_csv(\"PobrezaCiudades.csv\")\n",
    "\n",
    "race['share_white'] = pd.to_numeric(race['share_white'], errors='coerce')\n",
    "race['share_black'] = pd.to_numeric(race['share_black'], errors='coerce')\n",
    "race['share_native_american'] = pd.to_numeric(race['share_native_american'], errors='coerce')\n",
    "race['share_asian'] = pd.to_numeric(race['share_asian'], errors='coerce')\n",
    "race['share_hispanic'] = pd.to_numeric(race['share_hispanic'], errors='coerce')\n",
    "education['percent_completed_hs'] = pd.to_numeric(education['percent_completed_hs'], errors='coerce')\n",
    "income['Median Income'] = pd.to_numeric(income['Median Income'], errors='coerce')\n",
    "poverty['poverty_rate'] = pd.to_numeric(poverty['poverty_rate'], errors='coerce')\n",
    "\n",
    "data_frames = [race, education, income, poverty]\n",
    "\n",
    "df_merged = reduce(lambda  left,right: pd.merge(left,right,on=['Geographic Area', 'City'],\n",
    "                                            how='outer'), data_frames)\n",
    "df_merged.head()"
   ]
  },
  {
   "cell_type": "code",
   "execution_count": 24,
   "id": "b1f908e4",
   "metadata": {},
   "outputs": [
    {
     "data": {
      "text/plain": [
       "Geographic Area           object\n",
       "City                      object\n",
       "share_white              float64\n",
       "share_black              float64\n",
       "share_native_american    float64\n",
       "share_asian              float64\n",
       "share_hispanic           float64\n",
       "percent_completed_hs     float64\n",
       "Median Income            float64\n",
       "poverty_rate             float64\n",
       "dtype: object"
      ]
     },
     "execution_count": 24,
     "metadata": {},
     "output_type": "execute_result"
    }
   ],
   "source": [
    "df_merged.dtypes"
   ]
  },
  {
   "cell_type": "markdown",
   "id": "ff9f3f45",
   "metadata": {},
   "source": [
    "Utilizando el método `.describe()` se obtiene información estadística de los datos de todas las ciudades reportadas."
   ]
  },
  {
   "cell_type": "code",
   "execution_count": 25,
   "id": "61eb0041",
   "metadata": {},
   "outputs": [
    {
     "data": {
      "text/html": [
       "<div>\n",
       "<style scoped>\n",
       "    .dataframe tbody tr th:only-of-type {\n",
       "        vertical-align: middle;\n",
       "    }\n",
       "\n",
       "    .dataframe tbody tr th {\n",
       "        vertical-align: top;\n",
       "    }\n",
       "\n",
       "    .dataframe thead th {\n",
       "        text-align: right;\n",
       "    }\n",
       "</style>\n",
       "<table border=\"1\" class=\"dataframe\">\n",
       "  <thead>\n",
       "    <tr style=\"text-align: right;\">\n",
       "      <th></th>\n",
       "      <th>share_white</th>\n",
       "      <th>share_black</th>\n",
       "      <th>share_native_american</th>\n",
       "      <th>share_asian</th>\n",
       "      <th>share_hispanic</th>\n",
       "      <th>percent_completed_hs</th>\n",
       "      <th>Median Income</th>\n",
       "      <th>poverty_rate</th>\n",
       "    </tr>\n",
       "  </thead>\n",
       "  <tbody>\n",
       "    <tr>\n",
       "      <th>count</th>\n",
       "      <td>29248.000000</td>\n",
       "      <td>29248.000000</td>\n",
       "      <td>29248.000000</td>\n",
       "      <td>29248.000000</td>\n",
       "      <td>29248.000000</td>\n",
       "      <td>29132.000000</td>\n",
       "      <td>27385.000000</td>\n",
       "      <td>29128.000000</td>\n",
       "    </tr>\n",
       "    <tr>\n",
       "      <th>mean</th>\n",
       "      <td>83.212835</td>\n",
       "      <td>6.834607</td>\n",
       "      <td>2.875236</td>\n",
       "      <td>1.543918</td>\n",
       "      <td>9.329455</td>\n",
       "      <td>85.733805</td>\n",
       "      <td>51177.890268</td>\n",
       "      <td>16.443954</td>\n",
       "    </tr>\n",
       "    <tr>\n",
       "      <th>std</th>\n",
       "      <td>21.658700</td>\n",
       "      <td>15.618988</td>\n",
       "      <td>12.673715</td>\n",
       "      <td>4.291082</td>\n",
       "      <td>17.579231</td>\n",
       "      <td>11.875153</td>\n",
       "      <td>24887.323132</td>\n",
       "      <td>13.177842</td>\n",
       "    </tr>\n",
       "    <tr>\n",
       "      <th>min</th>\n",
       "      <td>0.000000</td>\n",
       "      <td>0.000000</td>\n",
       "      <td>0.000000</td>\n",
       "      <td>0.000000</td>\n",
       "      <td>0.000000</td>\n",
       "      <td>0.000000</td>\n",
       "      <td>4511.000000</td>\n",
       "      <td>0.000000</td>\n",
       "    </tr>\n",
       "    <tr>\n",
       "      <th>25%</th>\n",
       "      <td>78.500000</td>\n",
       "      <td>0.100000</td>\n",
       "      <td>0.100000</td>\n",
       "      <td>0.000000</td>\n",
       "      <td>1.200000</td>\n",
       "      <td>81.000000</td>\n",
       "      <td>35625.000000</td>\n",
       "      <td>7.100000</td>\n",
       "    </tr>\n",
       "    <tr>\n",
       "      <th>50%</th>\n",
       "      <td>92.500000</td>\n",
       "      <td>0.800000</td>\n",
       "      <td>0.300000</td>\n",
       "      <td>0.400000</td>\n",
       "      <td>2.900000</td>\n",
       "      <td>88.400000</td>\n",
       "      <td>45305.000000</td>\n",
       "      <td>13.700000</td>\n",
       "    </tr>\n",
       "    <tr>\n",
       "      <th>75%</th>\n",
       "      <td>96.900000</td>\n",
       "      <td>4.200000</td>\n",
       "      <td>0.900000</td>\n",
       "      <td>1.200000</td>\n",
       "      <td>8.000000</td>\n",
       "      <td>93.500000</td>\n",
       "      <td>59483.000000</td>\n",
       "      <td>22.500000</td>\n",
       "    </tr>\n",
       "    <tr>\n",
       "      <th>max</th>\n",
       "      <td>100.000000</td>\n",
       "      <td>100.000000</td>\n",
       "      <td>100.000000</td>\n",
       "      <td>67.100000</td>\n",
       "      <td>100.000000</td>\n",
       "      <td>100.000000</td>\n",
       "      <td>244083.000000</td>\n",
       "      <td>100.000000</td>\n",
       "    </tr>\n",
       "  </tbody>\n",
       "</table>\n",
       "</div>"
      ],
      "text/plain": [
       "        share_white   share_black  share_native_american   share_asian  \\\n",
       "count  29248.000000  29248.000000           29248.000000  29248.000000   \n",
       "mean      83.212835      6.834607               2.875236      1.543918   \n",
       "std       21.658700     15.618988              12.673715      4.291082   \n",
       "min        0.000000      0.000000               0.000000      0.000000   \n",
       "25%       78.500000      0.100000               0.100000      0.000000   \n",
       "50%       92.500000      0.800000               0.300000      0.400000   \n",
       "75%       96.900000      4.200000               0.900000      1.200000   \n",
       "max      100.000000    100.000000             100.000000     67.100000   \n",
       "\n",
       "       share_hispanic  percent_completed_hs  Median Income  poverty_rate  \n",
       "count    29248.000000          29132.000000   27385.000000  29128.000000  \n",
       "mean         9.329455             85.733805   51177.890268     16.443954  \n",
       "std         17.579231             11.875153   24887.323132     13.177842  \n",
       "min          0.000000              0.000000    4511.000000      0.000000  \n",
       "25%          1.200000             81.000000   35625.000000      7.100000  \n",
       "50%          2.900000             88.400000   45305.000000     13.700000  \n",
       "75%          8.000000             93.500000   59483.000000     22.500000  \n",
       "max        100.000000            100.000000  244083.000000    100.000000  "
      ]
     },
     "execution_count": 25,
     "metadata": {},
     "output_type": "execute_result"
    }
   ],
   "source": [
    "df_merged.describe()"
   ]
  },
  {
   "cell_type": "markdown",
   "id": "c34cd697",
   "metadata": {},
   "source": [
    "En la siguiente gráfica se puede visualizar la distribución del ingreso para todas las ciudades."
   ]
  },
  {
   "cell_type": "code",
   "execution_count": 26,
   "id": "2f5fc3be",
   "metadata": {},
   "outputs": [
    {
     "data": {
      "text/plain": [
       "array([[<AxesSubplot:title={'center':'Median Income'}>]], dtype=object)"
      ]
     },
     "execution_count": 26,
     "metadata": {},
     "output_type": "execute_result"
    },
    {
     "data": {
      "image/png": "[encoded data removed]",
      "text/plain": [
       "<Figure size 842.4x595.44 with 1 Axes>"
      ]
     },
     "metadata": {},
     "output_type": "display_data"
    }
   ],
   "source": [
    "df_merged.hist(column='Median Income', bins=50)"
   ]
  },
  {
   "cell_type": "markdown",
   "id": "02002d79",
   "metadata": {},
   "source": [
    "La tasa de pobreza en todas las ciudades se distribuye como lo muestra la gráfica siguiente."
   ]
  },
  {
   "cell_type": "code",
   "execution_count": 27,
   "id": "b43c41b1",
   "metadata": {},
   "outputs": [
    {
     "data": {
      "text/plain": [
       "array([[<AxesSubplot:title={'center':'poverty_rate'}>]], dtype=object)"
      ]
     },
     "execution_count": 27,
     "metadata": {},
     "output_type": "execute_result"
    },
    {
     "data": {
      "image/png": "[encoded data removed]",
      "text/plain": [
       "<Figure size 842.4x595.44 with 1 Axes>"
      ]
     },
     "metadata": {},
     "output_type": "display_data"
    }
   ],
   "source": [
    "df_merged.hist(column='poverty_rate', bins=50)"
   ]
  },
  {
   "cell_type": "markdown",
   "id": "f8f442e3",
   "metadata": {},
   "source": [
    "Mientras que el nivel de escolaridad se distribuye como lo muestra la siguiente gráfica."
   ]
  },
  {
   "cell_type": "code",
   "execution_count": 28,
   "id": "97d1625c",
   "metadata": {},
   "outputs": [
    {
     "data": {
      "text/plain": [
       "array([[<AxesSubplot:title={'center':'percent_completed_hs'}>]],\n",
       "      dtype=object)"
      ]
     },
     "execution_count": 28,
     "metadata": {},
     "output_type": "execute_result"
    },
    {
     "data": {
      "image/png": "[encoded data removed]",
      "text/plain": [
       "<Figure size 842.4x595.44 with 1 Axes>"
      ]
     },
     "metadata": {},
     "output_type": "display_data"
    }
   ],
   "source": [
    "df_merged.hist(column='percent_completed_hs', bins=50)"
   ]
  },
  {
   "cell_type": "markdown",
   "id": "dc260a1b",
   "metadata": {},
   "source": [
    "Es de interés tener estadísticas por estado, por lo que los datos se pueden agrupar para tener información sobre los promedios estatales en cada una de las variables (razas, escolaridad, ingreso y tasa de pobreza)."
   ]
  },
  {
   "cell_type": "code",
   "execution_count": 29,
   "id": "1b6d8c5e",
   "metadata": {
    "scrolled": true
   },
   "outputs": [
    {
     "data": {
      "text/html": [
       "<div>\n",
       "<style scoped>\n",
       "    .dataframe tbody tr th:only-of-type {\n",
       "        vertical-align: middle;\n",
       "    }\n",
       "\n",
       "    .dataframe tbody tr th {\n",
       "        vertical-align: top;\n",
       "    }\n",
       "\n",
       "    .dataframe thead th {\n",
       "        text-align: right;\n",
       "    }\n",
       "</style>\n",
       "<table border=\"1\" class=\"dataframe\">\n",
       "  <thead>\n",
       "    <tr style=\"text-align: right;\">\n",
       "      <th></th>\n",
       "      <th>share_white</th>\n",
       "      <th>share_black</th>\n",
       "      <th>share_native_american</th>\n",
       "      <th>share_asian</th>\n",
       "      <th>share_hispanic</th>\n",
       "      <th>percent_completed_hs</th>\n",
       "      <th>Median Income</th>\n",
       "      <th>poverty_rate</th>\n",
       "    </tr>\n",
       "    <tr>\n",
       "      <th>Geographic Area</th>\n",
       "      <th></th>\n",
       "      <th></th>\n",
       "      <th></th>\n",
       "      <th></th>\n",
       "      <th></th>\n",
       "      <th></th>\n",
       "      <th></th>\n",
       "      <th></th>\n",
       "    </tr>\n",
       "  </thead>\n",
       "  <tbody>\n",
       "    <tr>\n",
       "      <th>AK</th>\n",
       "      <td>45.650000</td>\n",
       "      <td>0.567330</td>\n",
       "      <td>45.864773</td>\n",
       "      <td>1.388352</td>\n",
       "      <td>2.149148</td>\n",
       "      <td>84.627381</td>\n",
       "      <td>52099.594406</td>\n",
       "      <td>19.852994</td>\n",
       "    </tr>\n",
       "    <tr>\n",
       "      <th>AL</th>\n",
       "      <td>72.507266</td>\n",
       "      <td>23.322318</td>\n",
       "      <td>0.659343</td>\n",
       "      <td>0.479758</td>\n",
       "      <td>2.980104</td>\n",
       "      <td>80.300685</td>\n",
       "      <td>40577.309524</td>\n",
       "      <td>20.647089</td>\n",
       "    </tr>\n",
       "    <tr>\n",
       "      <th>AR</th>\n",
       "      <td>78.449538</td>\n",
       "      <td>16.296858</td>\n",
       "      <td>0.759889</td>\n",
       "      <td>0.477079</td>\n",
       "      <td>4.273013</td>\n",
       "      <td>79.949538</td>\n",
       "      <td>35593.408915</td>\n",
       "      <td>22.963216</td>\n",
       "    </tr>\n",
       "    <tr>\n",
       "      <th>AZ</th>\n",
       "      <td>59.929047</td>\n",
       "      <td>0.954545</td>\n",
       "      <td>28.589800</td>\n",
       "      <td>0.726608</td>\n",
       "      <td>20.144568</td>\n",
       "      <td>80.467117</td>\n",
       "      <td>42495.666667</td>\n",
       "      <td>25.666441</td>\n",
       "    </tr>\n",
       "    <tr>\n",
       "      <th>CA</th>\n",
       "      <td>71.866293</td>\n",
       "      <td>2.692018</td>\n",
       "      <td>1.723087</td>\n",
       "      <td>5.568206</td>\n",
       "      <td>29.649868</td>\n",
       "      <td>81.955430</td>\n",
       "      <td>62097.352113</td>\n",
       "      <td>17.124650</td>\n",
       "    </tr>\n",
       "  </tbody>\n",
       "</table>\n",
       "</div>"
      ],
      "text/plain": [
       "                 share_white  share_black  share_native_american  share_asian  \\\n",
       "Geographic Area                                                                 \n",
       "AK                 45.650000     0.567330              45.864773     1.388352   \n",
       "AL                 72.507266    23.322318               0.659343     0.479758   \n",
       "AR                 78.449538    16.296858               0.759889     0.477079   \n",
       "AZ                 59.929047     0.954545              28.589800     0.726608   \n",
       "CA                 71.866293     2.692018               1.723087     5.568206   \n",
       "\n",
       "                 share_hispanic  percent_completed_hs  Median Income  \\\n",
       "Geographic Area                                                        \n",
       "AK                     2.149148             84.627381   52099.594406   \n",
       "AL                     2.980104             80.300685   40577.309524   \n",
       "AR                     4.273013             79.949538   35593.408915   \n",
       "AZ                    20.144568             80.467117   42495.666667   \n",
       "CA                    29.649868             81.955430   62097.352113   \n",
       "\n",
       "                 poverty_rate  \n",
       "Geographic Area                \n",
       "AK                  19.852994  \n",
       "AL                  20.647089  \n",
       "AR                  22.963216  \n",
       "AZ                  25.666441  \n",
       "CA                  17.124650  "
      ]
     },
     "execution_count": 29,
     "metadata": {},
     "output_type": "execute_result"
    }
   ],
   "source": [
    "df_merged2 = df_merged.groupby(['Geographic Area']).mean()\n",
    "df_merged2.head()"
   ]
  },
  {
   "cell_type": "markdown",
   "id": "f121b65a",
   "metadata": {},
   "source": [
    "Es de interés conocer la información de los cinco estados con más asesinatos, que se resume en la siguente tabla."
   ]
  },
  {
   "cell_type": "code",
   "execution_count": 30,
   "id": "88775b1e",
   "metadata": {},
   "outputs": [
    {
     "data": {
      "text/html": [
       "<div>\n",
       "<style scoped>\n",
       "    .dataframe tbody tr th:only-of-type {\n",
       "        vertical-align: middle;\n",
       "    }\n",
       "\n",
       "    .dataframe tbody tr th {\n",
       "        vertical-align: top;\n",
       "    }\n",
       "\n",
       "    .dataframe thead th {\n",
       "        text-align: right;\n",
       "    }\n",
       "</style>\n",
       "<table border=\"1\" class=\"dataframe\">\n",
       "  <thead>\n",
       "    <tr style=\"text-align: right;\">\n",
       "      <th></th>\n",
       "      <th>share_white</th>\n",
       "      <th>share_black</th>\n",
       "      <th>share_native_american</th>\n",
       "      <th>share_asian</th>\n",
       "      <th>share_hispanic</th>\n",
       "      <th>percent_completed_hs</th>\n",
       "      <th>Median Income</th>\n",
       "      <th>poverty_rate</th>\n",
       "    </tr>\n",
       "    <tr>\n",
       "      <th>Geographic Area</th>\n",
       "      <th></th>\n",
       "      <th></th>\n",
       "      <th></th>\n",
       "      <th></th>\n",
       "      <th></th>\n",
       "      <th></th>\n",
       "      <th></th>\n",
       "      <th></th>\n",
       "    </tr>\n",
       "  </thead>\n",
       "  <tbody>\n",
       "    <tr>\n",
       "      <th>CA</th>\n",
       "      <td>71.866293</td>\n",
       "      <td>2.692018</td>\n",
       "      <td>1.723087</td>\n",
       "      <td>5.568206</td>\n",
       "      <td>29.649868</td>\n",
       "      <td>81.955430</td>\n",
       "      <td>62097.352113</td>\n",
       "      <td>17.124650</td>\n",
       "    </tr>\n",
       "    <tr>\n",
       "      <th>TX</th>\n",
       "      <td>82.591934</td>\n",
       "      <td>5.879748</td>\n",
       "      <td>0.658867</td>\n",
       "      <td>1.014760</td>\n",
       "      <td>39.364874</td>\n",
       "      <td>75.690000</td>\n",
       "      <td>51335.326411</td>\n",
       "      <td>19.918070</td>\n",
       "    </tr>\n",
       "    <tr>\n",
       "      <th>FL</th>\n",
       "      <td>78.672500</td>\n",
       "      <td>13.370870</td>\n",
       "      <td>0.455435</td>\n",
       "      <td>1.616739</td>\n",
       "      <td>16.529130</td>\n",
       "      <td>85.737814</td>\n",
       "      <td>49811.306215</td>\n",
       "      <td>17.566011</td>\n",
       "    </tr>\n",
       "    <tr>\n",
       "      <th>AZ</th>\n",
       "      <td>59.929047</td>\n",
       "      <td>0.954545</td>\n",
       "      <td>28.589800</td>\n",
       "      <td>0.726608</td>\n",
       "      <td>20.144568</td>\n",
       "      <td>80.467117</td>\n",
       "      <td>42495.666667</td>\n",
       "      <td>25.666441</td>\n",
       "    </tr>\n",
       "    <tr>\n",
       "      <th>OH</th>\n",
       "      <td>92.804070</td>\n",
       "      <td>3.959967</td>\n",
       "      <td>0.215033</td>\n",
       "      <td>0.751495</td>\n",
       "      <td>2.130399</td>\n",
       "      <td>88.344600</td>\n",
       "      <td>50457.210931</td>\n",
       "      <td>14.851113</td>\n",
       "    </tr>\n",
       "  </tbody>\n",
       "</table>\n",
       "</div>"
      ],
      "text/plain": [
       "                 share_white  share_black  share_native_american  share_asian  \\\n",
       "Geographic Area                                                                 \n",
       "CA                 71.866293     2.692018               1.723087     5.568206   \n",
       "TX                 82.591934     5.879748               0.658867     1.014760   \n",
       "FL                 78.672500    13.370870               0.455435     1.616739   \n",
       "AZ                 59.929047     0.954545              28.589800     0.726608   \n",
       "OH                 92.804070     3.959967               0.215033     0.751495   \n",
       "\n",
       "                 share_hispanic  percent_completed_hs  Median Income  \\\n",
       "Geographic Area                                                        \n",
       "CA                    29.649868             81.955430   62097.352113   \n",
       "TX                    39.364874             75.690000   51335.326411   \n",
       "FL                    16.529130             85.737814   49811.306215   \n",
       "AZ                    20.144568             80.467117   42495.666667   \n",
       "OH                     2.130399             88.344600   50457.210931   \n",
       "\n",
       "                 poverty_rate  \n",
       "Geographic Area                \n",
       "CA                  17.124650  \n",
       "TX                  19.918070  \n",
       "FL                  17.566011  \n",
       "AZ                  25.666441  \n",
       "OH                  14.851113  "
      ]
     },
     "execution_count": 30,
     "metadata": {},
     "output_type": "execute_result"
    }
   ],
   "source": [
    "df_merged2.loc[top_states, :]"
   ]
  },
  {
   "cell_type": "markdown",
   "id": "3d6c9af7",
   "metadata": {},
   "source": [
    "***"
   ]
  },
  {
   "cell_type": "code",
   "execution_count": null,
   "id": "2d941427",
   "metadata": {},
   "outputs": [],
   "source": []
  },
  {
   "cell_type": "markdown",
   "id": "8214740f",
   "metadata": {},
   "source": [
    "## 8. Modelo de aprendizaje automático\n",
    "Utilizando el mismo conjunto de datos del punto 7, implemente un modelo de aprendizaje automático que dadas ciertas variables sociodemográficas y del tipo de asesinato policiaco, permita predecir la raza de la persona.\n",
    "\n",
    "### Respuesta 8.\n",
    "Este problema se puede resolver utilizando un modelo de clasificación, por ejemplo $K-$Nearest Neighbours ($K$NN) o árbol de decisión (Decision Tree)."
   ]
  },
  {
   "cell_type": "markdown",
   "id": "c13098f6",
   "metadata": {},
   "source": [
    "Las librerias necesarias para la implementación del los modelos."
   ]
  },
  {
   "cell_type": "code",
   "execution_count": 31,
   "id": "cb011f3b",
   "metadata": {},
   "outputs": [],
   "source": [
    "from sklearn import preprocessing\n",
    "from sklearn.model_selection import train_test_split\n",
    "from sklearn.neighbors import KNeighborsClassifier   #Para el modelo KNN\n",
    "from sklearn import metrics                          #Para evaluar las métricas\n",
    "#Para árbol de clasificación y visualización\n",
    "from sklearn.tree import DecisionTreeClassifier\n",
    "from  io import StringIO\n",
    "import pydotplus\n",
    "import matplotlib.image as mpimg\n",
    "from sklearn import tree"
   ]
  },
  {
   "cell_type": "markdown",
   "id": "cae28018",
   "metadata": {},
   "source": [
    "El primer paso es extraer de los datos disponibles el conjunto de datos que se utilizara para implementar el modelo.\n",
    "\n",
    "La variable objetivo **target** es la raza (**race**) que tiene 6 categorias: W (blanco), B (negro), H (Hispano), A (Asian), N (Otro). "
   ]
  },
  {
   "cell_type": "code",
   "execution_count": 32,
   "id": "e4a5d3b2",
   "metadata": {
    "scrolled": false
   },
   "outputs": [
    {
     "data": {
      "text/html": [
       "<div>\n",
       "<style scoped>\n",
       "    .dataframe tbody tr th:only-of-type {\n",
       "        vertical-align: middle;\n",
       "    }\n",
       "\n",
       "    .dataframe tbody tr th {\n",
       "        vertical-align: top;\n",
       "    }\n",
       "\n",
       "    .dataframe thead th {\n",
       "        text-align: right;\n",
       "    }\n",
       "</style>\n",
       "<table border=\"1\" class=\"dataframe\">\n",
       "  <thead>\n",
       "    <tr style=\"text-align: right;\">\n",
       "      <th></th>\n",
       "      <th>index</th>\n",
       "      <th>manner_of_death</th>\n",
       "      <th>armed</th>\n",
       "      <th>age</th>\n",
       "      <th>gender</th>\n",
       "      <th>race</th>\n",
       "      <th>state</th>\n",
       "      <th>signs_of_mental_illness</th>\n",
       "      <th>threat_level</th>\n",
       "      <th>share_white</th>\n",
       "      <th>share_black</th>\n",
       "      <th>share_native_american</th>\n",
       "      <th>share_asian</th>\n",
       "      <th>share_hispanic</th>\n",
       "      <th>percent_completed_hs</th>\n",
       "      <th>Median Income</th>\n",
       "      <th>poverty_rate</th>\n",
       "    </tr>\n",
       "  </thead>\n",
       "  <tbody>\n",
       "    <tr>\n",
       "      <th>0</th>\n",
       "      <td>124</td>\n",
       "      <td>shot</td>\n",
       "      <td>toy weapon</td>\n",
       "      <td>32.0</td>\n",
       "      <td>M</td>\n",
       "      <td>W</td>\n",
       "      <td>CA</td>\n",
       "      <td>True</td>\n",
       "      <td>attack</td>\n",
       "      <td>71.866293</td>\n",
       "      <td>2.692018</td>\n",
       "      <td>1.723087</td>\n",
       "      <td>5.568206</td>\n",
       "      <td>29.649868</td>\n",
       "      <td>81.955430</td>\n",
       "      <td>62097.352113</td>\n",
       "      <td>17.124650</td>\n",
       "    </tr>\n",
       "    <tr>\n",
       "      <th>1</th>\n",
       "      <td>125</td>\n",
       "      <td>shot and Tasered</td>\n",
       "      <td>knife</td>\n",
       "      <td>25.0</td>\n",
       "      <td>M</td>\n",
       "      <td>W</td>\n",
       "      <td>CA</td>\n",
       "      <td>False</td>\n",
       "      <td>attack</td>\n",
       "      <td>71.866293</td>\n",
       "      <td>2.692018</td>\n",
       "      <td>1.723087</td>\n",
       "      <td>5.568206</td>\n",
       "      <td>29.649868</td>\n",
       "      <td>81.955430</td>\n",
       "      <td>62097.352113</td>\n",
       "      <td>17.124650</td>\n",
       "    </tr>\n",
       "    <tr>\n",
       "      <th>2</th>\n",
       "      <td>126</td>\n",
       "      <td>shot</td>\n",
       "      <td>gun</td>\n",
       "      <td>23.0</td>\n",
       "      <td>M</td>\n",
       "      <td>H</td>\n",
       "      <td>CA</td>\n",
       "      <td>False</td>\n",
       "      <td>attack</td>\n",
       "      <td>71.866293</td>\n",
       "      <td>2.692018</td>\n",
       "      <td>1.723087</td>\n",
       "      <td>5.568206</td>\n",
       "      <td>29.649868</td>\n",
       "      <td>81.955430</td>\n",
       "      <td>62097.352113</td>\n",
       "      <td>17.124650</td>\n",
       "    </tr>\n",
       "    <tr>\n",
       "      <th>3</th>\n",
       "      <td>127</td>\n",
       "      <td>shot</td>\n",
       "      <td>knife</td>\n",
       "      <td>36.0</td>\n",
       "      <td>M</td>\n",
       "      <td>H</td>\n",
       "      <td>CA</td>\n",
       "      <td>True</td>\n",
       "      <td>other</td>\n",
       "      <td>71.866293</td>\n",
       "      <td>2.692018</td>\n",
       "      <td>1.723087</td>\n",
       "      <td>5.568206</td>\n",
       "      <td>29.649868</td>\n",
       "      <td>81.955430</td>\n",
       "      <td>62097.352113</td>\n",
       "      <td>17.124650</td>\n",
       "    </tr>\n",
       "    <tr>\n",
       "      <th>4</th>\n",
       "      <td>128</td>\n",
       "      <td>shot and Tasered</td>\n",
       "      <td>knife</td>\n",
       "      <td>48.0</td>\n",
       "      <td>M</td>\n",
       "      <td>O</td>\n",
       "      <td>CA</td>\n",
       "      <td>False</td>\n",
       "      <td>other</td>\n",
       "      <td>71.866293</td>\n",
       "      <td>2.692018</td>\n",
       "      <td>1.723087</td>\n",
       "      <td>5.568206</td>\n",
       "      <td>29.649868</td>\n",
       "      <td>81.955430</td>\n",
       "      <td>62097.352113</td>\n",
       "      <td>17.124650</td>\n",
       "    </tr>\n",
       "    <tr>\n",
       "      <th>...</th>\n",
       "      <td>...</td>\n",
       "      <td>...</td>\n",
       "      <td>...</td>\n",
       "      <td>...</td>\n",
       "      <td>...</td>\n",
       "      <td>...</td>\n",
       "      <td>...</td>\n",
       "      <td>...</td>\n",
       "      <td>...</td>\n",
       "      <td>...</td>\n",
       "      <td>...</td>\n",
       "      <td>...</td>\n",
       "      <td>...</td>\n",
       "      <td>...</td>\n",
       "      <td>...</td>\n",
       "      <td>...</td>\n",
       "      <td>...</td>\n",
       "    </tr>\n",
       "    <tr>\n",
       "      <th>872</th>\n",
       "      <td>1890</td>\n",
       "      <td>shot</td>\n",
       "      <td>gun</td>\n",
       "      <td>46.0</td>\n",
       "      <td>M</td>\n",
       "      <td>W</td>\n",
       "      <td>FL</td>\n",
       "      <td>False</td>\n",
       "      <td>attack</td>\n",
       "      <td>78.672500</td>\n",
       "      <td>13.370870</td>\n",
       "      <td>0.455435</td>\n",
       "      <td>1.616739</td>\n",
       "      <td>16.529130</td>\n",
       "      <td>85.737814</td>\n",
       "      <td>49811.306215</td>\n",
       "      <td>17.566011</td>\n",
       "    </tr>\n",
       "    <tr>\n",
       "      <th>873</th>\n",
       "      <td>1891</td>\n",
       "      <td>shot</td>\n",
       "      <td>unarmed</td>\n",
       "      <td>37.0</td>\n",
       "      <td>M</td>\n",
       "      <td>H</td>\n",
       "      <td>FL</td>\n",
       "      <td>False</td>\n",
       "      <td>attack</td>\n",
       "      <td>78.672500</td>\n",
       "      <td>13.370870</td>\n",
       "      <td>0.455435</td>\n",
       "      <td>1.616739</td>\n",
       "      <td>16.529130</td>\n",
       "      <td>85.737814</td>\n",
       "      <td>49811.306215</td>\n",
       "      <td>17.566011</td>\n",
       "    </tr>\n",
       "    <tr>\n",
       "      <th>874</th>\n",
       "      <td>1893</td>\n",
       "      <td>shot</td>\n",
       "      <td>vehicle</td>\n",
       "      <td>51.0</td>\n",
       "      <td>M</td>\n",
       "      <td>W</td>\n",
       "      <td>FL</td>\n",
       "      <td>False</td>\n",
       "      <td>attack</td>\n",
       "      <td>78.672500</td>\n",
       "      <td>13.370870</td>\n",
       "      <td>0.455435</td>\n",
       "      <td>1.616739</td>\n",
       "      <td>16.529130</td>\n",
       "      <td>85.737814</td>\n",
       "      <td>49811.306215</td>\n",
       "      <td>17.566011</td>\n",
       "    </tr>\n",
       "    <tr>\n",
       "      <th>875</th>\n",
       "      <td>1896</td>\n",
       "      <td>shot</td>\n",
       "      <td>gun</td>\n",
       "      <td>34.0</td>\n",
       "      <td>M</td>\n",
       "      <td>W</td>\n",
       "      <td>FL</td>\n",
       "      <td>False</td>\n",
       "      <td>attack</td>\n",
       "      <td>78.672500</td>\n",
       "      <td>13.370870</td>\n",
       "      <td>0.455435</td>\n",
       "      <td>1.616739</td>\n",
       "      <td>16.529130</td>\n",
       "      <td>85.737814</td>\n",
       "      <td>49811.306215</td>\n",
       "      <td>17.566011</td>\n",
       "    </tr>\n",
       "    <tr>\n",
       "      <th>876</th>\n",
       "      <td>1902</td>\n",
       "      <td>shot</td>\n",
       "      <td>gun</td>\n",
       "      <td>28.0</td>\n",
       "      <td>M</td>\n",
       "      <td>W</td>\n",
       "      <td>FL</td>\n",
       "      <td>False</td>\n",
       "      <td>attack</td>\n",
       "      <td>78.672500</td>\n",
       "      <td>13.370870</td>\n",
       "      <td>0.455435</td>\n",
       "      <td>1.616739</td>\n",
       "      <td>16.529130</td>\n",
       "      <td>85.737814</td>\n",
       "      <td>49811.306215</td>\n",
       "      <td>17.566011</td>\n",
       "    </tr>\n",
       "  </tbody>\n",
       "</table>\n",
       "<p>877 rows × 17 columns</p>\n",
       "</div>"
      ],
      "text/plain": [
       "     index   manner_of_death       armed   age gender race state  \\\n",
       "0      124              shot  toy weapon  32.0      M    W    CA   \n",
       "1      125  shot and Tasered       knife  25.0      M    W    CA   \n",
       "2      126              shot         gun  23.0      M    H    CA   \n",
       "3      127              shot       knife  36.0      M    H    CA   \n",
       "4      128  shot and Tasered       knife  48.0      M    O    CA   \n",
       "..     ...               ...         ...   ...    ...  ...   ...   \n",
       "872   1890              shot         gun  46.0      M    W    FL   \n",
       "873   1891              shot     unarmed  37.0      M    H    FL   \n",
       "874   1893              shot     vehicle  51.0      M    W    FL   \n",
       "875   1896              shot         gun  34.0      M    W    FL   \n",
       "876   1902              shot         gun  28.0      M    W    FL   \n",
       "\n",
       "     signs_of_mental_illness threat_level  share_white  share_black  \\\n",
       "0                       True       attack    71.866293     2.692018   \n",
       "1                      False       attack    71.866293     2.692018   \n",
       "2                      False       attack    71.866293     2.692018   \n",
       "3                       True        other    71.866293     2.692018   \n",
       "4                      False        other    71.866293     2.692018   \n",
       "..                       ...          ...          ...          ...   \n",
       "872                    False       attack    78.672500    13.370870   \n",
       "873                    False       attack    78.672500    13.370870   \n",
       "874                    False       attack    78.672500    13.370870   \n",
       "875                    False       attack    78.672500    13.370870   \n",
       "876                    False       attack    78.672500    13.370870   \n",
       "\n",
       "     share_native_american  share_asian  share_hispanic  percent_completed_hs  \\\n",
       "0                 1.723087     5.568206       29.649868             81.955430   \n",
       "1                 1.723087     5.568206       29.649868             81.955430   \n",
       "2                 1.723087     5.568206       29.649868             81.955430   \n",
       "3                 1.723087     5.568206       29.649868             81.955430   \n",
       "4                 1.723087     5.568206       29.649868             81.955430   \n",
       "..                     ...          ...             ...                   ...   \n",
       "872               0.455435     1.616739       16.529130             85.737814   \n",
       "873               0.455435     1.616739       16.529130             85.737814   \n",
       "874               0.455435     1.616739       16.529130             85.737814   \n",
       "875               0.455435     1.616739       16.529130             85.737814   \n",
       "876               0.455435     1.616739       16.529130             85.737814   \n",
       "\n",
       "     Median Income  poverty_rate  \n",
       "0     62097.352113     17.124650  \n",
       "1     62097.352113     17.124650  \n",
       "2     62097.352113     17.124650  \n",
       "3     62097.352113     17.124650  \n",
       "4     62097.352113     17.124650  \n",
       "..             ...           ...  \n",
       "872   49811.306215     17.566011  \n",
       "873   49811.306215     17.566011  \n",
       "874   49811.306215     17.566011  \n",
       "875   49811.306215     17.566011  \n",
       "876   49811.306215     17.566011  \n",
       "\n",
       "[877 rows x 17 columns]"
      ]
     },
     "execution_count": 32,
     "metadata": {},
     "output_type": "execute_result"
    }
   ],
   "source": [
    "#Contruir tabla con base en PoliciaAsesinatos inlcuyendo manner/armed/age/city/state/income/poverty/education\n",
    "#/race(target)\n",
    "\n",
    "df_model = pd.merge(left=df, right=df_merged2, left_on='state', right_on='Geographic Area')\n",
    "\n",
    "df_model.dropna(axis=0, inplace=True)\n",
    "\n",
    "states_list = df_merged2.index.tolist()\n",
    "\n",
    "for state in top_states:\n",
    "    states_list.remove(state)\n",
    "\n",
    "for state in states_list:\n",
    "    df_model.drop(df_model[df_model['state'] == state].index, inplace = True)\n",
    "\n",
    "df_model.drop(['id','name','date','City','flee','body_camera'], inplace=True, axis=1)\n",
    "\n",
    "df_model.reset_index(inplace=True)\n",
    "\n",
    "df_model"
   ]
  },
  {
   "cell_type": "markdown",
   "id": "c48716b5",
   "metadata": {},
   "source": [
    "El siguiente paso es convertir los variables categoricas en valores númericos, a excepción de race que es el traget del modelo."
   ]
  },
  {
   "cell_type": "code",
   "execution_count": 33,
   "id": "a69e33ce",
   "metadata": {},
   "outputs": [
    {
     "data": {
      "text/html": [
       "<div>\n",
       "<style scoped>\n",
       "    .dataframe tbody tr th:only-of-type {\n",
       "        vertical-align: middle;\n",
       "    }\n",
       "\n",
       "    .dataframe tbody tr th {\n",
       "        vertical-align: top;\n",
       "    }\n",
       "\n",
       "    .dataframe thead th {\n",
       "        text-align: right;\n",
       "    }\n",
       "</style>\n",
       "<table border=\"1\" class=\"dataframe\">\n",
       "  <thead>\n",
       "    <tr style=\"text-align: right;\">\n",
       "      <th></th>\n",
       "      <th>index</th>\n",
       "      <th>manner_of_death</th>\n",
       "      <th>armed</th>\n",
       "      <th>age</th>\n",
       "      <th>gender</th>\n",
       "      <th>race</th>\n",
       "      <th>state</th>\n",
       "      <th>signs_of_mental_illness</th>\n",
       "      <th>threat_level</th>\n",
       "      <th>share_white</th>\n",
       "      <th>share_black</th>\n",
       "      <th>share_native_american</th>\n",
       "      <th>share_asian</th>\n",
       "      <th>share_hispanic</th>\n",
       "      <th>percent_completed_hs</th>\n",
       "      <th>Median Income</th>\n",
       "      <th>poverty_rate</th>\n",
       "    </tr>\n",
       "  </thead>\n",
       "  <tbody>\n",
       "    <tr>\n",
       "      <th>0</th>\n",
       "      <td>124</td>\n",
       "      <td>1</td>\n",
       "      <td>toy weapon</td>\n",
       "      <td>32.0</td>\n",
       "      <td>1</td>\n",
       "      <td>W</td>\n",
       "      <td>CA</td>\n",
       "      <td>1</td>\n",
       "      <td>0</td>\n",
       "      <td>71.866293</td>\n",
       "      <td>2.692018</td>\n",
       "      <td>1.723087</td>\n",
       "      <td>5.568206</td>\n",
       "      <td>29.649868</td>\n",
       "      <td>81.95543</td>\n",
       "      <td>62097.352113</td>\n",
       "      <td>17.12465</td>\n",
       "    </tr>\n",
       "    <tr>\n",
       "      <th>1</th>\n",
       "      <td>125</td>\n",
       "      <td>0</td>\n",
       "      <td>knife</td>\n",
       "      <td>25.0</td>\n",
       "      <td>1</td>\n",
       "      <td>W</td>\n",
       "      <td>CA</td>\n",
       "      <td>0</td>\n",
       "      <td>0</td>\n",
       "      <td>71.866293</td>\n",
       "      <td>2.692018</td>\n",
       "      <td>1.723087</td>\n",
       "      <td>5.568206</td>\n",
       "      <td>29.649868</td>\n",
       "      <td>81.95543</td>\n",
       "      <td>62097.352113</td>\n",
       "      <td>17.12465</td>\n",
       "    </tr>\n",
       "    <tr>\n",
       "      <th>2</th>\n",
       "      <td>126</td>\n",
       "      <td>1</td>\n",
       "      <td>gun</td>\n",
       "      <td>23.0</td>\n",
       "      <td>1</td>\n",
       "      <td>H</td>\n",
       "      <td>CA</td>\n",
       "      <td>0</td>\n",
       "      <td>0</td>\n",
       "      <td>71.866293</td>\n",
       "      <td>2.692018</td>\n",
       "      <td>1.723087</td>\n",
       "      <td>5.568206</td>\n",
       "      <td>29.649868</td>\n",
       "      <td>81.95543</td>\n",
       "      <td>62097.352113</td>\n",
       "      <td>17.12465</td>\n",
       "    </tr>\n",
       "    <tr>\n",
       "      <th>3</th>\n",
       "      <td>127</td>\n",
       "      <td>1</td>\n",
       "      <td>knife</td>\n",
       "      <td>36.0</td>\n",
       "      <td>1</td>\n",
       "      <td>H</td>\n",
       "      <td>CA</td>\n",
       "      <td>1</td>\n",
       "      <td>1</td>\n",
       "      <td>71.866293</td>\n",
       "      <td>2.692018</td>\n",
       "      <td>1.723087</td>\n",
       "      <td>5.568206</td>\n",
       "      <td>29.649868</td>\n",
       "      <td>81.95543</td>\n",
       "      <td>62097.352113</td>\n",
       "      <td>17.12465</td>\n",
       "    </tr>\n",
       "    <tr>\n",
       "      <th>4</th>\n",
       "      <td>128</td>\n",
       "      <td>0</td>\n",
       "      <td>knife</td>\n",
       "      <td>48.0</td>\n",
       "      <td>1</td>\n",
       "      <td>O</td>\n",
       "      <td>CA</td>\n",
       "      <td>0</td>\n",
       "      <td>1</td>\n",
       "      <td>71.866293</td>\n",
       "      <td>2.692018</td>\n",
       "      <td>1.723087</td>\n",
       "      <td>5.568206</td>\n",
       "      <td>29.649868</td>\n",
       "      <td>81.95543</td>\n",
       "      <td>62097.352113</td>\n",
       "      <td>17.12465</td>\n",
       "    </tr>\n",
       "  </tbody>\n",
       "</table>\n",
       "</div>"
      ],
      "text/plain": [
       "   index  manner_of_death       armed   age  gender race state  \\\n",
       "0    124                1  toy weapon  32.0       1    W    CA   \n",
       "1    125                0       knife  25.0       1    W    CA   \n",
       "2    126                1         gun  23.0       1    H    CA   \n",
       "3    127                1       knife  36.0       1    H    CA   \n",
       "4    128                0       knife  48.0       1    O    CA   \n",
       "\n",
       "   signs_of_mental_illness  threat_level  share_white  share_black  \\\n",
       "0                        1             0    71.866293     2.692018   \n",
       "1                        0             0    71.866293     2.692018   \n",
       "2                        0             0    71.866293     2.692018   \n",
       "3                        1             1    71.866293     2.692018   \n",
       "4                        0             1    71.866293     2.692018   \n",
       "\n",
       "   share_native_american  share_asian  share_hispanic  percent_completed_hs  \\\n",
       "0               1.723087     5.568206       29.649868              81.95543   \n",
       "1               1.723087     5.568206       29.649868              81.95543   \n",
       "2               1.723087     5.568206       29.649868              81.95543   \n",
       "3               1.723087     5.568206       29.649868              81.95543   \n",
       "4               1.723087     5.568206       29.649868              81.95543   \n",
       "\n",
       "   Median Income  poverty_rate  \n",
       "0   62097.352113      17.12465  \n",
       "1   62097.352113      17.12465  \n",
       "2   62097.352113      17.12465  \n",
       "3   62097.352113      17.12465  \n",
       "4   62097.352113      17.12465  "
      ]
     },
     "execution_count": 33,
     "metadata": {},
     "output_type": "execute_result"
    }
   ],
   "source": [
    "#encode: manner / armed / gender / race\n",
    "df_model['manner_of_death'].replace(to_replace=['shot and Tasered','shot'], value=[0,1],inplace=True)\n",
    "df_model['gender'].replace(to_replace=['F','M'], value=[0,1],inplace=True)\n",
    "df_model['signs_of_mental_illness'].replace(to_replace=[False,True], value=[0,1],inplace=True)\n",
    "df_model['threat_level'].replace(to_replace=['attack','other','undetermined'], value=[0,1,2],inplace=True)\n",
    "df_model.head()"
   ]
  },
  {
   "cell_type": "code",
   "execution_count": 34,
   "id": "193104af",
   "metadata": {},
   "outputs": [
    {
     "data": {
      "text/html": [
       "<div>\n",
       "<style scoped>\n",
       "    .dataframe tbody tr th:only-of-type {\n",
       "        vertical-align: middle;\n",
       "    }\n",
       "\n",
       "    .dataframe tbody tr th {\n",
       "        vertical-align: top;\n",
       "    }\n",
       "\n",
       "    .dataframe thead th {\n",
       "        text-align: right;\n",
       "    }\n",
       "</style>\n",
       "<table border=\"1\" class=\"dataframe\">\n",
       "  <thead>\n",
       "    <tr style=\"text-align: right;\">\n",
       "      <th></th>\n",
       "      <th>manner_of_death</th>\n",
       "      <th>age</th>\n",
       "      <th>gender</th>\n",
       "      <th>signs_of_mental_illness</th>\n",
       "      <th>threat_level</th>\n",
       "      <th>AZ</th>\n",
       "      <th>CA</th>\n",
       "      <th>FL</th>\n",
       "      <th>OH</th>\n",
       "      <th>TX</th>\n",
       "      <th>...</th>\n",
       "      <th>shovel</th>\n",
       "      <th>spear</th>\n",
       "      <th>stapler</th>\n",
       "      <th>straight edge razor</th>\n",
       "      <th>sword</th>\n",
       "      <th>toy weapon</th>\n",
       "      <th>unarmed</th>\n",
       "      <th>undetermined</th>\n",
       "      <th>unknown weapon</th>\n",
       "      <th>vehicle</th>\n",
       "    </tr>\n",
       "  </thead>\n",
       "  <tbody>\n",
       "    <tr>\n",
       "      <th>0</th>\n",
       "      <td>1</td>\n",
       "      <td>32.0</td>\n",
       "      <td>1</td>\n",
       "      <td>1</td>\n",
       "      <td>0</td>\n",
       "      <td>0</td>\n",
       "      <td>1</td>\n",
       "      <td>0</td>\n",
       "      <td>0</td>\n",
       "      <td>0</td>\n",
       "      <td>...</td>\n",
       "      <td>0</td>\n",
       "      <td>0</td>\n",
       "      <td>0</td>\n",
       "      <td>0</td>\n",
       "      <td>0</td>\n",
       "      <td>1</td>\n",
       "      <td>0</td>\n",
       "      <td>0</td>\n",
       "      <td>0</td>\n",
       "      <td>0</td>\n",
       "    </tr>\n",
       "    <tr>\n",
       "      <th>1</th>\n",
       "      <td>0</td>\n",
       "      <td>25.0</td>\n",
       "      <td>1</td>\n",
       "      <td>0</td>\n",
       "      <td>0</td>\n",
       "      <td>0</td>\n",
       "      <td>1</td>\n",
       "      <td>0</td>\n",
       "      <td>0</td>\n",
       "      <td>0</td>\n",
       "      <td>...</td>\n",
       "      <td>0</td>\n",
       "      <td>0</td>\n",
       "      <td>0</td>\n",
       "      <td>0</td>\n",
       "      <td>0</td>\n",
       "      <td>0</td>\n",
       "      <td>0</td>\n",
       "      <td>0</td>\n",
       "      <td>0</td>\n",
       "      <td>0</td>\n",
       "    </tr>\n",
       "    <tr>\n",
       "      <th>2</th>\n",
       "      <td>1</td>\n",
       "      <td>23.0</td>\n",
       "      <td>1</td>\n",
       "      <td>0</td>\n",
       "      <td>0</td>\n",
       "      <td>0</td>\n",
       "      <td>1</td>\n",
       "      <td>0</td>\n",
       "      <td>0</td>\n",
       "      <td>0</td>\n",
       "      <td>...</td>\n",
       "      <td>0</td>\n",
       "      <td>0</td>\n",
       "      <td>0</td>\n",
       "      <td>0</td>\n",
       "      <td>0</td>\n",
       "      <td>0</td>\n",
       "      <td>0</td>\n",
       "      <td>0</td>\n",
       "      <td>0</td>\n",
       "      <td>0</td>\n",
       "    </tr>\n",
       "    <tr>\n",
       "      <th>3</th>\n",
       "      <td>1</td>\n",
       "      <td>36.0</td>\n",
       "      <td>1</td>\n",
       "      <td>1</td>\n",
       "      <td>1</td>\n",
       "      <td>0</td>\n",
       "      <td>1</td>\n",
       "      <td>0</td>\n",
       "      <td>0</td>\n",
       "      <td>0</td>\n",
       "      <td>...</td>\n",
       "      <td>0</td>\n",
       "      <td>0</td>\n",
       "      <td>0</td>\n",
       "      <td>0</td>\n",
       "      <td>0</td>\n",
       "      <td>0</td>\n",
       "      <td>0</td>\n",
       "      <td>0</td>\n",
       "      <td>0</td>\n",
       "      <td>0</td>\n",
       "    </tr>\n",
       "    <tr>\n",
       "      <th>4</th>\n",
       "      <td>0</td>\n",
       "      <td>48.0</td>\n",
       "      <td>1</td>\n",
       "      <td>0</td>\n",
       "      <td>1</td>\n",
       "      <td>0</td>\n",
       "      <td>1</td>\n",
       "      <td>0</td>\n",
       "      <td>0</td>\n",
       "      <td>0</td>\n",
       "      <td>...</td>\n",
       "      <td>0</td>\n",
       "      <td>0</td>\n",
       "      <td>0</td>\n",
       "      <td>0</td>\n",
       "      <td>0</td>\n",
       "      <td>0</td>\n",
       "      <td>0</td>\n",
       "      <td>0</td>\n",
       "      <td>0</td>\n",
       "      <td>0</td>\n",
       "    </tr>\n",
       "  </tbody>\n",
       "</table>\n",
       "<p>5 rows × 59 columns</p>\n",
       "</div>"
      ],
      "text/plain": [
       "   manner_of_death   age  gender  signs_of_mental_illness  threat_level  AZ  \\\n",
       "0                1  32.0       1                        1             0   0   \n",
       "1                0  25.0       1                        0             0   0   \n",
       "2                1  23.0       1                        0             0   0   \n",
       "3                1  36.0       1                        1             1   0   \n",
       "4                0  48.0       1                        0             1   0   \n",
       "\n",
       "   CA  FL  OH  TX  ...  shovel  spear  stapler  straight edge razor  sword  \\\n",
       "0   1   0   0   0  ...       0      0        0                    0      0   \n",
       "1   1   0   0   0  ...       0      0        0                    0      0   \n",
       "2   1   0   0   0  ...       0      0        0                    0      0   \n",
       "3   1   0   0   0  ...       0      0        0                    0      0   \n",
       "4   1   0   0   0  ...       0      0        0                    0      0   \n",
       "\n",
       "   toy weapon  unarmed  undetermined  unknown weapon  vehicle  \n",
       "0           1        0             0               0        0  \n",
       "1           0        0             0               0        0  \n",
       "2           0        0             0               0        0  \n",
       "3           0        0             0               0        0  \n",
       "4           0        0             0               0        0  \n",
       "\n",
       "[5 rows x 59 columns]"
      ]
     },
     "execution_count": 34,
     "metadata": {},
     "output_type": "execute_result"
    }
   ],
   "source": [
    "df_for_model = df_model[['manner_of_death','age','gender','signs_of_mental_illness','threat_level','state','armed']]\n",
    "#hotEncode\n",
    "df_for_model = pd.concat([df_for_model,pd.get_dummies(df_for_model['state'])], axis=1)\n",
    "df_for_model = pd.concat([df_for_model,pd.get_dummies(df_for_model['armed'])], axis=1)\n",
    "df_for_model.drop(['armed','state'], inplace=True, axis=1)\n",
    "\n",
    "df_for_model.head()"
   ]
  },
  {
   "cell_type": "markdown",
   "id": "9d288ce6",
   "metadata": {},
   "source": [
    "Se definen conjuntos de características X y Y:"
   ]
  },
  {
   "cell_type": "code",
   "execution_count": 35,
   "id": "3a733e97",
   "metadata": {},
   "outputs": [
    {
     "data": {
      "text/html": [
       "<div>\n",
       "<style scoped>\n",
       "    .dataframe tbody tr th:only-of-type {\n",
       "        vertical-align: middle;\n",
       "    }\n",
       "\n",
       "    .dataframe tbody tr th {\n",
       "        vertical-align: top;\n",
       "    }\n",
       "\n",
       "    .dataframe thead th {\n",
       "        text-align: right;\n",
       "    }\n",
       "</style>\n",
       "<table border=\"1\" class=\"dataframe\">\n",
       "  <thead>\n",
       "    <tr style=\"text-align: right;\">\n",
       "      <th></th>\n",
       "      <th>manner_of_death</th>\n",
       "      <th>age</th>\n",
       "      <th>gender</th>\n",
       "      <th>signs_of_mental_illness</th>\n",
       "      <th>threat_level</th>\n",
       "      <th>AZ</th>\n",
       "      <th>CA</th>\n",
       "      <th>FL</th>\n",
       "      <th>OH</th>\n",
       "      <th>TX</th>\n",
       "      <th>...</th>\n",
       "      <th>shovel</th>\n",
       "      <th>spear</th>\n",
       "      <th>stapler</th>\n",
       "      <th>straight edge razor</th>\n",
       "      <th>sword</th>\n",
       "      <th>toy weapon</th>\n",
       "      <th>unarmed</th>\n",
       "      <th>undetermined</th>\n",
       "      <th>unknown weapon</th>\n",
       "      <th>vehicle</th>\n",
       "    </tr>\n",
       "  </thead>\n",
       "  <tbody>\n",
       "    <tr>\n",
       "      <th>0</th>\n",
       "      <td>1</td>\n",
       "      <td>32.0</td>\n",
       "      <td>1</td>\n",
       "      <td>1</td>\n",
       "      <td>0</td>\n",
       "      <td>0</td>\n",
       "      <td>1</td>\n",
       "      <td>0</td>\n",
       "      <td>0</td>\n",
       "      <td>0</td>\n",
       "      <td>...</td>\n",
       "      <td>0</td>\n",
       "      <td>0</td>\n",
       "      <td>0</td>\n",
       "      <td>0</td>\n",
       "      <td>0</td>\n",
       "      <td>1</td>\n",
       "      <td>0</td>\n",
       "      <td>0</td>\n",
       "      <td>0</td>\n",
       "      <td>0</td>\n",
       "    </tr>\n",
       "    <tr>\n",
       "      <th>1</th>\n",
       "      <td>0</td>\n",
       "      <td>25.0</td>\n",
       "      <td>1</td>\n",
       "      <td>0</td>\n",
       "      <td>0</td>\n",
       "      <td>0</td>\n",
       "      <td>1</td>\n",
       "      <td>0</td>\n",
       "      <td>0</td>\n",
       "      <td>0</td>\n",
       "      <td>...</td>\n",
       "      <td>0</td>\n",
       "      <td>0</td>\n",
       "      <td>0</td>\n",
       "      <td>0</td>\n",
       "      <td>0</td>\n",
       "      <td>0</td>\n",
       "      <td>0</td>\n",
       "      <td>0</td>\n",
       "      <td>0</td>\n",
       "      <td>0</td>\n",
       "    </tr>\n",
       "    <tr>\n",
       "      <th>2</th>\n",
       "      <td>1</td>\n",
       "      <td>23.0</td>\n",
       "      <td>1</td>\n",
       "      <td>0</td>\n",
       "      <td>0</td>\n",
       "      <td>0</td>\n",
       "      <td>1</td>\n",
       "      <td>0</td>\n",
       "      <td>0</td>\n",
       "      <td>0</td>\n",
       "      <td>...</td>\n",
       "      <td>0</td>\n",
       "      <td>0</td>\n",
       "      <td>0</td>\n",
       "      <td>0</td>\n",
       "      <td>0</td>\n",
       "      <td>0</td>\n",
       "      <td>0</td>\n",
       "      <td>0</td>\n",
       "      <td>0</td>\n",
       "      <td>0</td>\n",
       "    </tr>\n",
       "    <tr>\n",
       "      <th>3</th>\n",
       "      <td>1</td>\n",
       "      <td>36.0</td>\n",
       "      <td>1</td>\n",
       "      <td>1</td>\n",
       "      <td>1</td>\n",
       "      <td>0</td>\n",
       "      <td>1</td>\n",
       "      <td>0</td>\n",
       "      <td>0</td>\n",
       "      <td>0</td>\n",
       "      <td>...</td>\n",
       "      <td>0</td>\n",
       "      <td>0</td>\n",
       "      <td>0</td>\n",
       "      <td>0</td>\n",
       "      <td>0</td>\n",
       "      <td>0</td>\n",
       "      <td>0</td>\n",
       "      <td>0</td>\n",
       "      <td>0</td>\n",
       "      <td>0</td>\n",
       "    </tr>\n",
       "    <tr>\n",
       "      <th>4</th>\n",
       "      <td>0</td>\n",
       "      <td>48.0</td>\n",
       "      <td>1</td>\n",
       "      <td>0</td>\n",
       "      <td>1</td>\n",
       "      <td>0</td>\n",
       "      <td>1</td>\n",
       "      <td>0</td>\n",
       "      <td>0</td>\n",
       "      <td>0</td>\n",
       "      <td>...</td>\n",
       "      <td>0</td>\n",
       "      <td>0</td>\n",
       "      <td>0</td>\n",
       "      <td>0</td>\n",
       "      <td>0</td>\n",
       "      <td>0</td>\n",
       "      <td>0</td>\n",
       "      <td>0</td>\n",
       "      <td>0</td>\n",
       "      <td>0</td>\n",
       "    </tr>\n",
       "  </tbody>\n",
       "</table>\n",
       "<p>5 rows × 59 columns</p>\n",
       "</div>"
      ],
      "text/plain": [
       "   manner_of_death   age  gender  signs_of_mental_illness  threat_level  AZ  \\\n",
       "0                1  32.0       1                        1             0   0   \n",
       "1                0  25.0       1                        0             0   0   \n",
       "2                1  23.0       1                        0             0   0   \n",
       "3                1  36.0       1                        1             1   0   \n",
       "4                0  48.0       1                        0             1   0   \n",
       "\n",
       "   CA  FL  OH  TX  ...  shovel  spear  stapler  straight edge razor  sword  \\\n",
       "0   1   0   0   0  ...       0      0        0                    0      0   \n",
       "1   1   0   0   0  ...       0      0        0                    0      0   \n",
       "2   1   0   0   0  ...       0      0        0                    0      0   \n",
       "3   1   0   0   0  ...       0      0        0                    0      0   \n",
       "4   1   0   0   0  ...       0      0        0                    0      0   \n",
       "\n",
       "   toy weapon  unarmed  undetermined  unknown weapon  vehicle  \n",
       "0           1        0             0               0        0  \n",
       "1           0        0             0               0        0  \n",
       "2           0        0             0               0        0  \n",
       "3           0        0             0               0        0  \n",
       "4           0        0             0               0        0  \n",
       "\n",
       "[5 rows x 59 columns]"
      ]
     },
     "execution_count": 35,
     "metadata": {},
     "output_type": "execute_result"
    }
   ],
   "source": [
    "X = df_for_model\n",
    "X[0:5]"
   ]
  },
  {
   "cell_type": "code",
   "execution_count": 36,
   "id": "a8afda87",
   "metadata": {},
   "outputs": [
    {
     "data": {
      "text/plain": [
       "array(['W', 'W', 'H', 'H', 'O'], dtype=object)"
      ]
     },
     "execution_count": 36,
     "metadata": {},
     "output_type": "execute_result"
    }
   ],
   "source": [
    "y = df_model['race'].values\n",
    "y[0:5]"
   ]
  },
  {
   "cell_type": "markdown",
   "id": "874b2efd",
   "metadata": {},
   "source": [
    "La estandarización de datos da a los datos una media cero y una varianza unitaria, es una buena práctica, especialmente para algoritmos como KNN, que se basa en la distancia de los casos. "
   ]
  },
  {
   "cell_type": "code",
   "execution_count": 37,
   "id": "d9250bef",
   "metadata": {
    "scrolled": true
   },
   "outputs": [
    {
     "data": {
      "text/plain": [
       "array([[ 0.29222601, -0.25463362,  0.23256513,  1.71768753, -0.76638608,\n",
       "        -0.36879583,  1.18159844, -0.42841074, -0.29451828, -0.54352643,\n",
       "        -0.05858749, -0.06768974, -0.05858749, -0.03378687, -0.03378687,\n",
       "        -0.03378687, -0.03378687, -0.03378687, -0.06768974, -0.04780914,\n",
       "        -0.03378687, -0.03378687, -0.03378687, -0.03378687, -0.03378687,\n",
       "        -0.03378687, -0.99204985, -0.04780914, -0.03378687, -0.04780914,\n",
       "        -0.03378687, -0.04780914, -0.04780914, -0.44507014, -0.10739658,\n",
       "        -0.03378687, -0.03378687, -0.04780914, -0.05858749, -0.03378687,\n",
       "        -0.03378687, -0.04780914, -0.03378687, -0.03378687, -0.03378687,\n",
       "        -0.04780914, -0.04780914, -0.03378687, -0.03378687, -0.03378687,\n",
       "        -0.03378687, -0.03378687, -0.03378687, -0.07572282,  4.45880616,\n",
       "        -0.31244524, -0.20388157, -0.05858749, -0.27820061],\n",
       "       [-3.4220089 , -0.82681363,  0.23256513, -0.58217806, -0.76638608,\n",
       "        -0.36879583,  1.18159844, -0.42841074, -0.29451828, -0.54352643,\n",
       "        -0.05858749, -0.06768974, -0.05858749, -0.03378687, -0.03378687,\n",
       "        -0.03378687, -0.03378687, -0.03378687, -0.06768974, -0.04780914,\n",
       "        -0.03378687, -0.03378687, -0.03378687, -0.03378687, -0.03378687,\n",
       "        -0.03378687, -0.99204985, -0.04780914, -0.03378687, -0.04780914,\n",
       "        -0.03378687, -0.04780914, -0.04780914,  2.24683686, -0.10739658,\n",
       "        -0.03378687, -0.03378687, -0.04780914, -0.05858749, -0.03378687,\n",
       "        -0.03378687, -0.04780914, -0.03378687, -0.03378687, -0.03378687,\n",
       "        -0.04780914, -0.04780914, -0.03378687, -0.03378687, -0.03378687,\n",
       "        -0.03378687, -0.03378687, -0.03378687, -0.07572282, -0.22427528,\n",
       "        -0.31244524, -0.20388157, -0.05858749, -0.27820061],\n",
       "       [ 0.29222601, -0.99029363,  0.23256513, -0.58217806, -0.76638608,\n",
       "        -0.36879583,  1.18159844, -0.42841074, -0.29451828, -0.54352643,\n",
       "        -0.05858749, -0.06768974, -0.05858749, -0.03378687, -0.03378687,\n",
       "        -0.03378687, -0.03378687, -0.03378687, -0.06768974, -0.04780914,\n",
       "        -0.03378687, -0.03378687, -0.03378687, -0.03378687, -0.03378687,\n",
       "        -0.03378687,  1.00801387, -0.04780914, -0.03378687, -0.04780914,\n",
       "        -0.03378687, -0.04780914, -0.04780914, -0.44507014, -0.10739658,\n",
       "        -0.03378687, -0.03378687, -0.04780914, -0.05858749, -0.03378687,\n",
       "        -0.03378687, -0.04780914, -0.03378687, -0.03378687, -0.03378687,\n",
       "        -0.04780914, -0.04780914, -0.03378687, -0.03378687, -0.03378687,\n",
       "        -0.03378687, -0.03378687, -0.03378687, -0.07572282, -0.22427528,\n",
       "        -0.31244524, -0.20388157, -0.05858749, -0.27820061],\n",
       "       [ 0.29222601,  0.07232639,  0.23256513,  1.71768753,  0.90555569,\n",
       "        -0.36879583,  1.18159844, -0.42841074, -0.29451828, -0.54352643,\n",
       "        -0.05858749, -0.06768974, -0.05858749, -0.03378687, -0.03378687,\n",
       "        -0.03378687, -0.03378687, -0.03378687, -0.06768974, -0.04780914,\n",
       "        -0.03378687, -0.03378687, -0.03378687, -0.03378687, -0.03378687,\n",
       "        -0.03378687, -0.99204985, -0.04780914, -0.03378687, -0.04780914,\n",
       "        -0.03378687, -0.04780914, -0.04780914,  2.24683686, -0.10739658,\n",
       "        -0.03378687, -0.03378687, -0.04780914, -0.05858749, -0.03378687,\n",
       "        -0.03378687, -0.04780914, -0.03378687, -0.03378687, -0.03378687,\n",
       "        -0.04780914, -0.04780914, -0.03378687, -0.03378687, -0.03378687,\n",
       "        -0.03378687, -0.03378687, -0.03378687, -0.07572282, -0.22427528,\n",
       "        -0.31244524, -0.20388157, -0.05858749, -0.27820061],\n",
       "       [-3.4220089 ,  1.05320641,  0.23256513, -0.58217806,  0.90555569,\n",
       "        -0.36879583,  1.18159844, -0.42841074, -0.29451828, -0.54352643,\n",
       "        -0.05858749, -0.06768974, -0.05858749, -0.03378687, -0.03378687,\n",
       "        -0.03378687, -0.03378687, -0.03378687, -0.06768974, -0.04780914,\n",
       "        -0.03378687, -0.03378687, -0.03378687, -0.03378687, -0.03378687,\n",
       "        -0.03378687, -0.99204985, -0.04780914, -0.03378687, -0.04780914,\n",
       "        -0.03378687, -0.04780914, -0.04780914,  2.24683686, -0.10739658,\n",
       "        -0.03378687, -0.03378687, -0.04780914, -0.05858749, -0.03378687,\n",
       "        -0.03378687, -0.04780914, -0.03378687, -0.03378687, -0.03378687,\n",
       "        -0.04780914, -0.04780914, -0.03378687, -0.03378687, -0.03378687,\n",
       "        -0.03378687, -0.03378687, -0.03378687, -0.07572282, -0.22427528,\n",
       "        -0.31244524, -0.20388157, -0.05858749, -0.27820061]])"
      ]
     },
     "execution_count": 37,
     "metadata": {},
     "output_type": "execute_result"
    }
   ],
   "source": [
    "X= preprocessing.StandardScaler().fit(X).transform(X)\n",
    "X[0:5]"
   ]
  },
  {
   "cell_type": "markdown",
   "id": "9417b5d5",
   "metadata": {},
   "source": [
    "La precisión fuera de la muestra es el porcentaje de predicciones correctas que hace el modelo sobre los datos en los que NO se ha entrenado el modelo. Hacer un entrenamiento y una prueba en el mismo conjunto de datos probablemente tendrá una precisión baja fuera de la muestra, debido a la probabilidad de un ajuste excesivo.\n",
    "\n",
    "Es importante que los modelos tengan una alta precisión fuera de la muestra, porque el propósito de cualquier modelo, por supuesto, es hacer predicciones correctas sobre datos desconocidos.\n",
    "\n",
    "Una forma para mejorar la precisión fuera de la muestra es utilizar un enfoque de evaluación llamado Split de entrenamiento/prueba, que implica dividir el conjunto de datos en conjuntos de entrenamiento y prueba, que se excluyen mutuamente. Después de lo cual, entrena con el conjunto de entrenamiento y prueba con el conjunto de prueba.\n",
    "\n",
    "Esto proporcionará una evaluación más precisa de la precisión fuera de la muestra porque el conjunto de datos de prueba no es parte del conjunto de datos que se ha utilizado para entrenar los datos."
   ]
  },
  {
   "cell_type": "code",
   "execution_count": 38,
   "id": "88c26dfa",
   "metadata": {},
   "outputs": [
    {
     "name": "stdout",
     "output_type": "stream",
     "text": [
      "Train set: (701, 59) (701,)\n",
      "Test set: (176, 59) (176,)\n"
     ]
    }
   ],
   "source": [
    "X_train, X_test, y_train, y_test = train_test_split( X, y, test_size=0.2, random_state=4)\n",
    "print ('Train set:', X_train.shape,  y_train.shape)\n",
    "print ('Test set:', X_test.shape,  y_test.shape)"
   ]
  },
  {
   "cell_type": "markdown",
   "id": "46f72973",
   "metadata": {},
   "source": [
    "### $K-$Nearest Neighbours ($K$NN)\n",
    "\n",
    "Se debe encontrar la mejor $K$ para construir el modelo con la mayor precisión. En la clasificación de varias etiquetas, se debe calcular la precisión de subconjuntos, esto es, se calcula qué tan estrechamente coinciden las etiquetas reales y las etiquetas predichas en el conjunto de prueba. "
   ]
  },
  {
   "cell_type": "markdown",
   "id": "739ae81b",
   "metadata": {},
   "source": [
    "$K$ en $K$NN, es el número de vecinos más cercanos a examinar. La solución general es reservar una parte de sus datos para probar la precisión del modelo. Se inicia con $K=1$ en la parte de entrenamiento para modelar y calcular la precisión de la predicción usando todas las muestras en su conjunto de prueba. Este proceso se repite, aumentando k, y vea cuál k es el mejor para su modelo.\n",
    "\n",
    "Se puede calcular la precisión de $K$NN para diferentes $K$. "
   ]
  },
  {
   "cell_type": "code",
   "execution_count": 39,
   "id": "2e81e371",
   "metadata": {},
   "outputs": [
    {
     "data": {
      "text/plain": [
       "array([0.4375    , 0.36363636, 0.45454545, 0.48863636, 0.51136364,\n",
       "       0.52840909, 0.54545455, 0.53977273, 0.52272727])"
      ]
     },
     "execution_count": 39,
     "metadata": {},
     "output_type": "execute_result"
    }
   ],
   "source": [
    "Ks = 10\n",
    "mean_acc = np.zeros((Ks-1))\n",
    "std_acc = np.zeros((Ks-1))\n",
    "\n",
    "for n in range(1,Ks):\n",
    "    \n",
    "    #Train Model and Predict  \n",
    "    neigh = KNeighborsClassifier(n_neighbors = n).fit(X_train,y_train)\n",
    "    yhat=neigh.predict(X_test)\n",
    "    mean_acc[n-1] = metrics.accuracy_score(y_test, yhat)\n",
    "\n",
    "    \n",
    "    std_acc[n-1]=np.std(yhat==y_test)/np.sqrt(yhat.shape[0])\n",
    "\n",
    "mean_acc"
   ]
  },
  {
   "cell_type": "markdown",
   "id": "45f65b43",
   "metadata": {},
   "source": [
    "Finalmente se grafica la precisión del modelo para diferentes números de vecinos, lo que facilita visualizar el resultado. "
   ]
  },
  {
   "cell_type": "code",
   "execution_count": 40,
   "id": "b7fcf6eb",
   "metadata": {},
   "outputs": [
    {
     "data": {
      "image/png": "[encoded data removed]",
      "text/plain": [
       "<Figure size 842.4x595.44 with 1 Axes>"
      ]
     },
     "metadata": {},
     "output_type": "display_data"
    }
   ],
   "source": [
    "plt.plot(range(1,Ks),mean_acc,'g')\n",
    "plt.fill_between(range(1,Ks),mean_acc - 1 * std_acc,mean_acc + 1 * std_acc, alpha=0.10)\n",
    "plt.fill_between(range(1,Ks),mean_acc - 3 * std_acc,mean_acc + 3 * std_acc, alpha=0.10,color=\"green\")\n",
    "plt.legend(('Accuracy ', '+/- 1xstd','+/- 3xstd'))\n",
    "plt.ylabel('Accuracy ')\n",
    "plt.xlabel('Number of Neighbors (K)')\n",
    "plt.tight_layout()\n",
    "plt.show()"
   ]
  },
  {
   "cell_type": "code",
   "execution_count": 41,
   "id": "cb8e7037",
   "metadata": {},
   "outputs": [
    {
     "name": "stdout",
     "output_type": "stream",
     "text": [
      "El modelo con la mejor exactitud es K= 7 cuyo valor es 0.5454545454545454\n"
     ]
    }
   ],
   "source": [
    "print( \"El modelo con la mejor exactitud es K=\", mean_acc.argmax()+1,\"cuyo valor es\", mean_acc.max())"
   ]
  },
  {
   "cell_type": "markdown",
   "id": "bd0b622d",
   "metadata": {},
   "source": [
    "El modelo da como resultado la raza de la persona:"
   ]
  },
  {
   "cell_type": "code",
   "execution_count": 42,
   "id": "655798de",
   "metadata": {},
   "outputs": [
    {
     "data": {
      "text/plain": [
       "array(['B', 'H', 'H', 'W', 'H'], dtype=object)"
      ]
     },
     "execution_count": 42,
     "metadata": {},
     "output_type": "execute_result"
    }
   ],
   "source": [
    "yhat = neigh.predict(X_test)\n",
    "yhat[0:5]"
   ]
  },
  {
   "cell_type": "markdown",
   "id": "b97c0b8b",
   "metadata": {},
   "source": [
    "Como posibles mejoras al modelo se puede revisar la relevancia que puedan tener las variables del conjunto característico X para confirmar su inclusión. "
   ]
  }
 ],
 "metadata": {
  "kernelspec": {
   "display_name": "Python 3",
   "language": "python",
   "name": "python3"
  },
  "language_info": {
   "codemirror_mode": {
    "name": "ipython",
    "version": 3
   },
   "file_extension": ".py",
   "mimetype": "text/x-python",
   "name": "python",
   "nbconvert_exporter": "python",
   "pygments_lexer": "ipython3",
   "version": "3.9.5"
  }
 },
 "nbformat": 4,
 "nbformat_minor": 5
}
